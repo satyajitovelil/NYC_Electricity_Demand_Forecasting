{
  "cells": [
    {
      "cell_type": "code",
      "execution_count": 1,
      "metadata": {
        "colab": {
          "base_uri": "https://localhost:8080/",
          "height": 1000
        },
        "id": "UW7wE0U2sg-6",
        "outputId": "71d99a9d-df76-499a-d17a-3b7dada5849f"
      },
      "outputs": [],
      "source": [
        "# !pip uninstall -y azureml-opendatasets\n",
        "# !pip install azureml-opendatasets"
      ]
    },
    {
      "cell_type": "code",
      "execution_count": null,
      "metadata": {
        "colab": {
          "base_uri": "https://localhost:8080/"
        },
        "id": "pnFUcjqnsliB",
        "outputId": "a083b099-8023-451e-b2d1-741ac739d44c"
      },
      "outputs": [
        {
          "data": {
            "text/plain": [
              "(datetime.datetime(2012, 1, 1, 0, 0), datetime.datetime(2017, 8, 12, 23, 59))"
            ]
          },
          "execution_count": 21,
          "metadata": {},
          "output_type": "execute_result"
        }
      ],
      "source": [
        "from datetime import datetime\n",
        "\n",
        "\n",
        "start_date = datetime(2012, 1, 1, 0, 0)\n",
        "end_date = datetime(2017, 8, 12, 23, 59)\n",
        "\n",
        "start_date, end_date"
      ]
    },
    {
      "cell_type": "code",
      "execution_count": null,
      "metadata": {
        "id": "FOwyKNx1s_Pj"
      },
      "outputs": [],
      "source": [
        "from datetime import timedelta\n",
        "from dateutil.relativedelta import relativedelta\n",
        "\n",
        "import math\n",
        "\n",
        "\n",
        "r = relativedelta(end_date, start_date)\n",
        "months = r.years * 12 + r.months + math.floor((r.days + 30)/31)"
      ]
    },
    {
      "cell_type": "code",
      "execution_count": null,
      "metadata": {
        "id": "HOVT9w8-yQV7"
      },
      "outputs": [],
      "source": [
        "import pandas as pd\n",
        "from datetime import date\n",
        "\n",
        "month_dict = dict(enumerate([date(dt.year,dt.month, 1) for dt in pd.date_range(start=start_date, periods=68, freq='M')]))"
      ]
    },
    {
      "cell_type": "code",
      "execution_count": null,
      "metadata": {
        "colab": {
          "base_uri": "https://localhost:8080/"
        },
        "id": "WoJFagpLtA2z",
        "outputId": "3a390400-af4c-44f7-f576-a64d4e855ddf"
      },
      "outputs": [
        {
          "data": {
            "text/plain": [
              "(40.701, -74.009)"
            ]
          },
          "execution_count": 24,
          "metadata": {},
          "output_type": "execute_result"
        }
      ],
      "source": [
        "lat, long = 40.701, -74.009\n",
        "lat, long"
      ]
    },
    {
      "cell_type": "code",
      "execution_count": null,
      "metadata": {
        "colab": {
          "base_uri": "https://localhost:8080/",
          "height": 206
        },
        "id": "SJpEvXLjtCfh",
        "outputId": "1613ff8e-6295-4e9b-9f12-4b8fa4d72a85"
      },
      "outputs": [
        {
          "data": {
            "text/html": [
              "\n",
              "  <div id=\"df-3eec9c9b-e2bf-4f1a-8d3c-9a0b96c0d374\">\n",
              "    <div class=\"colab-df-container\">\n",
              "      <div>\n",
              "<style scoped>\n",
              "    .dataframe tbody tr th:only-of-type {\n",
              "        vertical-align: middle;\n",
              "    }\n",
              "\n",
              "    .dataframe tbody tr th {\n",
              "        vertical-align: top;\n",
              "    }\n",
              "\n",
              "    .dataframe thead th {\n",
              "        text-align: right;\n",
              "    }\n",
              "</style>\n",
              "<table border=\"1\" class=\"dataframe\">\n",
              "  <thead>\n",
              "    <tr style=\"text-align: right;\">\n",
              "      <th></th>\n",
              "      <th>timeStamp</th>\n",
              "      <th>demand</th>\n",
              "      <th>lat</th>\n",
              "      <th>long</th>\n",
              "    </tr>\n",
              "  </thead>\n",
              "  <tbody>\n",
              "    <tr>\n",
              "      <th>0</th>\n",
              "      <td>2012-01-01 00:00:00</td>\n",
              "      <td>4937.5</td>\n",
              "      <td>40.701</td>\n",
              "      <td>-74.009</td>\n",
              "    </tr>\n",
              "    <tr>\n",
              "      <th>1</th>\n",
              "      <td>2012-01-01 01:00:00</td>\n",
              "      <td>4752.1</td>\n",
              "      <td>40.701</td>\n",
              "      <td>-74.009</td>\n",
              "    </tr>\n",
              "    <tr>\n",
              "      <th>2</th>\n",
              "      <td>2012-01-01 02:00:00</td>\n",
              "      <td>4542.6</td>\n",
              "      <td>40.701</td>\n",
              "      <td>-74.009</td>\n",
              "    </tr>\n",
              "    <tr>\n",
              "      <th>3</th>\n",
              "      <td>2012-01-01 03:00:00</td>\n",
              "      <td>4357.7</td>\n",
              "      <td>40.701</td>\n",
              "      <td>-74.009</td>\n",
              "    </tr>\n",
              "    <tr>\n",
              "      <th>4</th>\n",
              "      <td>2012-01-01 04:00:00</td>\n",
              "      <td>4275.5</td>\n",
              "      <td>40.701</td>\n",
              "      <td>-74.009</td>\n",
              "    </tr>\n",
              "  </tbody>\n",
              "</table>\n",
              "</div>\n",
              "      <button class=\"colab-df-convert\" onclick=\"convertToInteractive('df-3eec9c9b-e2bf-4f1a-8d3c-9a0b96c0d374')\"\n",
              "              title=\"Convert this dataframe to an interactive table.\"\n",
              "              style=\"display:none;\">\n",
              "        \n",
              "  <svg xmlns=\"http://www.w3.org/2000/svg\" height=\"24px\"viewBox=\"0 0 24 24\"\n",
              "       width=\"24px\">\n",
              "    <path d=\"M0 0h24v24H0V0z\" fill=\"none\"/>\n",
              "    <path d=\"M18.56 5.44l.94 2.06.94-2.06 2.06-.94-2.06-.94-.94-2.06-.94 2.06-2.06.94zm-11 1L8.5 8.5l.94-2.06 2.06-.94-2.06-.94L8.5 2.5l-.94 2.06-2.06.94zm10 10l.94 2.06.94-2.06 2.06-.94-2.06-.94-.94-2.06-.94 2.06-2.06.94z\"/><path d=\"M17.41 7.96l-1.37-1.37c-.4-.4-.92-.59-1.43-.59-.52 0-1.04.2-1.43.59L10.3 9.45l-7.72 7.72c-.78.78-.78 2.05 0 2.83L4 21.41c.39.39.9.59 1.41.59.51 0 1.02-.2 1.41-.59l7.78-7.78 2.81-2.81c.8-.78.8-2.07 0-2.86zM5.41 20L4 18.59l7.72-7.72 1.47 1.35L5.41 20z\"/>\n",
              "  </svg>\n",
              "      </button>\n",
              "      \n",
              "  <style>\n",
              "    .colab-df-container {\n",
              "      display:flex;\n",
              "      flex-wrap:wrap;\n",
              "      gap: 12px;\n",
              "    }\n",
              "\n",
              "    .colab-df-convert {\n",
              "      background-color: #E8F0FE;\n",
              "      border: none;\n",
              "      border-radius: 50%;\n",
              "      cursor: pointer;\n",
              "      display: none;\n",
              "      fill: #1967D2;\n",
              "      height: 32px;\n",
              "      padding: 0 0 0 0;\n",
              "      width: 32px;\n",
              "    }\n",
              "\n",
              "    .colab-df-convert:hover {\n",
              "      background-color: #E2EBFA;\n",
              "      box-shadow: 0px 1px 2px rgba(60, 64, 67, 0.3), 0px 1px 3px 1px rgba(60, 64, 67, 0.15);\n",
              "      fill: #174EA6;\n",
              "    }\n",
              "\n",
              "    [theme=dark] .colab-df-convert {\n",
              "      background-color: #3B4455;\n",
              "      fill: #D2E3FC;\n",
              "    }\n",
              "\n",
              "    [theme=dark] .colab-df-convert:hover {\n",
              "      background-color: #434B5C;\n",
              "      box-shadow: 0px 1px 3px 1px rgba(0, 0, 0, 0.15);\n",
              "      filter: drop-shadow(0px 1px 2px rgba(0, 0, 0, 0.3));\n",
              "      fill: #FFFFFF;\n",
              "    }\n",
              "  </style>\n",
              "\n",
              "      <script>\n",
              "        const buttonEl =\n",
              "          document.querySelector('#df-3eec9c9b-e2bf-4f1a-8d3c-9a0b96c0d374 button.colab-df-convert');\n",
              "        buttonEl.style.display =\n",
              "          google.colab.kernel.accessAllowed ? 'block' : 'none';\n",
              "\n",
              "        async function convertToInteractive(key) {\n",
              "          const element = document.querySelector('#df-3eec9c9b-e2bf-4f1a-8d3c-9a0b96c0d374');\n",
              "          const dataTable =\n",
              "            await google.colab.kernel.invokeFunction('convertToInteractive',\n",
              "                                                     [key], {});\n",
              "          if (!dataTable) return;\n",
              "\n",
              "          const docLinkHtml = 'Like what you see? Visit the ' +\n",
              "            '<a target=\"_blank\" href=https://colab.research.google.com/notebooks/data_table.ipynb>data table notebook</a>'\n",
              "            + ' to learn more about interactive tables.';\n",
              "          element.innerHTML = '';\n",
              "          dataTable['output_type'] = 'display_data';\n",
              "          await google.colab.output.renderOutput(dataTable, element);\n",
              "          const docLink = document.createElement('div');\n",
              "          docLink.innerHTML = docLinkHtml;\n",
              "          element.appendChild(docLink);\n",
              "        }\n",
              "      </script>\n",
              "    </div>\n",
              "  </div>\n",
              "  "
            ],
            "text/plain": [
              "             timeStamp  demand     lat    long\n",
              "0  2012-01-01 00:00:00  4937.5  40.701 -74.009\n",
              "1  2012-01-01 01:00:00  4752.1  40.701 -74.009\n",
              "2  2012-01-01 02:00:00  4542.6  40.701 -74.009\n",
              "3  2012-01-01 03:00:00  4357.7  40.701 -74.009\n",
              "4  2012-01-01 04:00:00  4275.5  40.701 -74.009"
            ]
          },
          "execution_count": 25,
          "metadata": {},
          "output_type": "execute_result"
        }
      ],
      "source": [
        "from pandas import read_csv\n",
        "\n",
        "\n",
        "df = read_csv('./nyc_energy.csv').drop(columns=['precip', 'temp'], axis=1)\n",
        "df['lat'] = lat\n",
        "df['long'] = long\n",
        "df.head(5)"
      ]
    },
    {
      "cell_type": "code",
      "execution_count": null,
      "metadata": {
        "colab": {
          "base_uri": "https://localhost:8080/",
          "height": 206
        },
        "id": "cM0erYjMtEJQ",
        "outputId": "1d81ab9c-994a-44a2-ac73-1b50cd1adc0e"
      },
      "outputs": [
        {
          "data": {
            "text/html": [
              "\n",
              "  <div id=\"df-2ec01e77-49c2-4c09-a65c-c726d81e6e65\">\n",
              "    <div class=\"colab-df-container\">\n",
              "      <div>\n",
              "<style scoped>\n",
              "    .dataframe tbody tr th:only-of-type {\n",
              "        vertical-align: middle;\n",
              "    }\n",
              "\n",
              "    .dataframe tbody tr th {\n",
              "        vertical-align: top;\n",
              "    }\n",
              "\n",
              "    .dataframe thead th {\n",
              "        text-align: right;\n",
              "    }\n",
              "</style>\n",
              "<table border=\"1\" class=\"dataframe\">\n",
              "  <thead>\n",
              "    <tr style=\"text-align: right;\">\n",
              "      <th></th>\n",
              "      <th>timeStamp</th>\n",
              "      <th>demand</th>\n",
              "      <th>lat</th>\n",
              "      <th>long</th>\n",
              "      <th>new_datetime</th>\n",
              "    </tr>\n",
              "  </thead>\n",
              "  <tbody>\n",
              "    <tr>\n",
              "      <th>0</th>\n",
              "      <td>2012-01-01 00:00:00</td>\n",
              "      <td>4937.5</td>\n",
              "      <td>40.701</td>\n",
              "      <td>-74.009</td>\n",
              "      <td>2012-01-01 00:00:00</td>\n",
              "    </tr>\n",
              "    <tr>\n",
              "      <th>1</th>\n",
              "      <td>2012-01-01 01:00:00</td>\n",
              "      <td>4752.1</td>\n",
              "      <td>40.701</td>\n",
              "      <td>-74.009</td>\n",
              "      <td>2012-01-01 01:00:00</td>\n",
              "    </tr>\n",
              "    <tr>\n",
              "      <th>2</th>\n",
              "      <td>2012-01-01 02:00:00</td>\n",
              "      <td>4542.6</td>\n",
              "      <td>40.701</td>\n",
              "      <td>-74.009</td>\n",
              "      <td>2012-01-01 02:00:00</td>\n",
              "    </tr>\n",
              "    <tr>\n",
              "      <th>3</th>\n",
              "      <td>2012-01-01 03:00:00</td>\n",
              "      <td>4357.7</td>\n",
              "      <td>40.701</td>\n",
              "      <td>-74.009</td>\n",
              "      <td>2012-01-01 03:00:00</td>\n",
              "    </tr>\n",
              "    <tr>\n",
              "      <th>4</th>\n",
              "      <td>2012-01-01 04:00:00</td>\n",
              "      <td>4275.5</td>\n",
              "      <td>40.701</td>\n",
              "      <td>-74.009</td>\n",
              "      <td>2012-01-01 04:00:00</td>\n",
              "    </tr>\n",
              "  </tbody>\n",
              "</table>\n",
              "</div>\n",
              "      <button class=\"colab-df-convert\" onclick=\"convertToInteractive('df-2ec01e77-49c2-4c09-a65c-c726d81e6e65')\"\n",
              "              title=\"Convert this dataframe to an interactive table.\"\n",
              "              style=\"display:none;\">\n",
              "        \n",
              "  <svg xmlns=\"http://www.w3.org/2000/svg\" height=\"24px\"viewBox=\"0 0 24 24\"\n",
              "       width=\"24px\">\n",
              "    <path d=\"M0 0h24v24H0V0z\" fill=\"none\"/>\n",
              "    <path d=\"M18.56 5.44l.94 2.06.94-2.06 2.06-.94-2.06-.94-.94-2.06-.94 2.06-2.06.94zm-11 1L8.5 8.5l.94-2.06 2.06-.94-2.06-.94L8.5 2.5l-.94 2.06-2.06.94zm10 10l.94 2.06.94-2.06 2.06-.94-2.06-.94-.94-2.06-.94 2.06-2.06.94z\"/><path d=\"M17.41 7.96l-1.37-1.37c-.4-.4-.92-.59-1.43-.59-.52 0-1.04.2-1.43.59L10.3 9.45l-7.72 7.72c-.78.78-.78 2.05 0 2.83L4 21.41c.39.39.9.59 1.41.59.51 0 1.02-.2 1.41-.59l7.78-7.78 2.81-2.81c.8-.78.8-2.07 0-2.86zM5.41 20L4 18.59l7.72-7.72 1.47 1.35L5.41 20z\"/>\n",
              "  </svg>\n",
              "      </button>\n",
              "      \n",
              "  <style>\n",
              "    .colab-df-container {\n",
              "      display:flex;\n",
              "      flex-wrap:wrap;\n",
              "      gap: 12px;\n",
              "    }\n",
              "\n",
              "    .colab-df-convert {\n",
              "      background-color: #E8F0FE;\n",
              "      border: none;\n",
              "      border-radius: 50%;\n",
              "      cursor: pointer;\n",
              "      display: none;\n",
              "      fill: #1967D2;\n",
              "      height: 32px;\n",
              "      padding: 0 0 0 0;\n",
              "      width: 32px;\n",
              "    }\n",
              "\n",
              "    .colab-df-convert:hover {\n",
              "      background-color: #E2EBFA;\n",
              "      box-shadow: 0px 1px 2px rgba(60, 64, 67, 0.3), 0px 1px 3px 1px rgba(60, 64, 67, 0.15);\n",
              "      fill: #174EA6;\n",
              "    }\n",
              "\n",
              "    [theme=dark] .colab-df-convert {\n",
              "      background-color: #3B4455;\n",
              "      fill: #D2E3FC;\n",
              "    }\n",
              "\n",
              "    [theme=dark] .colab-df-convert:hover {\n",
              "      background-color: #434B5C;\n",
              "      box-shadow: 0px 1px 3px 1px rgba(0, 0, 0, 0.15);\n",
              "      filter: drop-shadow(0px 1px 2px rgba(0, 0, 0, 0.3));\n",
              "      fill: #FFFFFF;\n",
              "    }\n",
              "  </style>\n",
              "\n",
              "      <script>\n",
              "        const buttonEl =\n",
              "          document.querySelector('#df-2ec01e77-49c2-4c09-a65c-c726d81e6e65 button.colab-df-convert');\n",
              "        buttonEl.style.display =\n",
              "          google.colab.kernel.accessAllowed ? 'block' : 'none';\n",
              "\n",
              "        async function convertToInteractive(key) {\n",
              "          const element = document.querySelector('#df-2ec01e77-49c2-4c09-a65c-c726d81e6e65');\n",
              "          const dataTable =\n",
              "            await google.colab.kernel.invokeFunction('convertToInteractive',\n",
              "                                                     [key], {});\n",
              "          if (!dataTable) return;\n",
              "\n",
              "          const docLinkHtml = 'Like what you see? Visit the ' +\n",
              "            '<a target=\"_blank\" href=https://colab.research.google.com/notebooks/data_table.ipynb>data table notebook</a>'\n",
              "            + ' to learn more about interactive tables.';\n",
              "          element.innerHTML = '';\n",
              "          dataTable['output_type'] = 'display_data';\n",
              "          await google.colab.output.renderOutput(dataTable, element);\n",
              "          const docLink = document.createElement('div');\n",
              "          docLink.innerHTML = docLinkHtml;\n",
              "          element.appendChild(docLink);\n",
              "        }\n",
              "      </script>\n",
              "    </div>\n",
              "  </div>\n",
              "  "
            ],
            "text/plain": [
              "             timeStamp  demand     lat    long        new_datetime\n",
              "0  2012-01-01 00:00:00  4937.5  40.701 -74.009 2012-01-01 00:00:00\n",
              "1  2012-01-01 01:00:00  4752.1  40.701 -74.009 2012-01-01 01:00:00\n",
              "2  2012-01-01 02:00:00  4542.6  40.701 -74.009 2012-01-01 02:00:00\n",
              "3  2012-01-01 03:00:00  4357.7  40.701 -74.009 2012-01-01 03:00:00\n",
              "4  2012-01-01 04:00:00  4275.5  40.701 -74.009 2012-01-01 04:00:00"
            ]
          },
          "execution_count": 26,
          "metadata": {},
          "output_type": "execute_result"
        }
      ],
      "source": [
        "from dateutil import parser\n",
        "\n",
        "\n",
        "df['new_datetime'] = df['timeStamp'].apply(parser.parse)\n",
        "raw_columns = list(df.columns)\n",
        "df.head(5)"
      ]
    },
    {
      "cell_type": "code",
      "execution_count": null,
      "metadata": {
        "id": "1ovXMwwHtGaw"
      },
      "outputs": [],
      "source": [
        "import os.path\n",
        "import pandas as pd\n",
        "import numpy as np\n",
        "from azureml.opendatasets.accessories.location_data import LatLongColumn\n",
        "from azureml.opendatasets.accessories.location_time_customer_data \\\n",
        "    import LocationTimeCustomerData\n",
        "from azureml.opendatasets import NoaaIsdWeather\n",
        "from azureml.opendatasets.environ import PandasEnv"
      ]
    },
    {
      "cell_type": "code",
      "execution_count": null,
      "metadata": {
        "id": "EWaVsb6OtHxu"
      },
      "outputs": [],
      "source": [
        "# !if [ ! -d \"./temp\" ]; then mkdir temp; fi"
      ]
    },
    {
      "cell_type": "code",
      "execution_count": null,
      "metadata": {
        "id": "O6URNWKY0m03"
      },
      "outputs": [],
      "source": [
        "import glob\n",
        "temp_csvs = glob.glob(os.path.join(\"./temp\", \"*.csv\"))"
      ]
    },
    {
      "cell_type": "code",
      "execution_count": null,
      "metadata": {
        "id": "H387mROf05gM"
      },
      "outputs": [],
      "source": [
        "temp_csvs.sort()"
      ]
    },
    {
      "cell_type": "code",
      "execution_count": null,
      "metadata": {
        "id": "EwWqS06t2dps"
      },
      "outputs": [],
      "source": [
        "m_dict = {'i_date': [], 'j_date':[]}\n",
        "\n",
        "i_date = start_date\n",
        "for m in range(months):\n",
        "    m_dict['i_date'].append(i_date)\n",
        "    j_date = i_date + relativedelta(months=1) - timedelta(milliseconds=1)\n",
        "    i_date += relativedelta(months=1)\n",
        "    m_dict['j_date'].append(j_date)"
      ]
    },
    {
      "cell_type": "code",
      "execution_count": null,
      "metadata": {
        "colab": {
          "base_uri": "https://localhost:8080/"
        },
        "id": "mtCzqV3w4G_T",
        "outputId": "fe8fb8c2-a971-4d72-eb26-2e610af4d34b"
      },
      "outputs": [
        {
          "data": {
            "text/plain": [
              "(68, 68)"
            ]
          },
          "execution_count": 32,
          "metadata": {},
          "output_type": "execute_result"
        }
      ],
      "source": [
        "len(m_dict['i_date']), len(m_dict['j_date'])"
      ]
    },
    {
      "cell_type": "code",
      "execution_count": null,
      "metadata": {
        "id": "xFxL4QtD0dSc"
      },
      "outputs": [],
      "source": [
        "m_df = pd.DataFrame(m_dict)"
      ]
    },
    {
      "cell_type": "code",
      "execution_count": null,
      "metadata": {
        "colab": {
          "base_uri": "https://localhost:8080/"
        },
        "id": "Nod6Sw_l_DEb",
        "outputId": "5f3d9217-3a6c-4bed-a90b-9345893d919c"
      },
      "outputs": [
        {
          "data": {
            "text/plain": [
              "67"
            ]
          },
          "execution_count": 34,
          "metadata": {},
          "output_type": "execute_result"
        }
      ],
      "source": [
        "len(temp_csvs)"
      ]
    },
    {
      "cell_type": "code",
      "execution_count": null,
      "metadata": {
        "colab": {
          "base_uri": "https://localhost:8080/"
        },
        "id": "7B47gGCk6Kxm",
        "outputId": "efdf365e-0ac5-4f1f-d41c-883219c95872"
      },
      "outputs": [
        {
          "name": "stdout",
          "output_type": "stream",
          "text": [
            "[datetime.date(2012, 1, 1), datetime.date(2012, 2, 1), datetime.date(2012, 3, 1), datetime.date(2012, 4, 1), datetime.date(2012, 5, 1), datetime.date(2012, 6, 1), datetime.date(2012, 7, 1), datetime.date(2012, 8, 1), datetime.date(2012, 9, 1), datetime.date(2012, 10, 1), datetime.date(2012, 11, 1), datetime.date(2012, 12, 1), datetime.date(2013, 1, 1), datetime.date(2013, 2, 1), datetime.date(2013, 3, 1), datetime.date(2013, 4, 1), datetime.date(2013, 5, 1), datetime.date(2013, 6, 1), datetime.date(2013, 7, 1), datetime.date(2013, 8, 1), datetime.date(2013, 9, 1), datetime.date(2013, 10, 1), datetime.date(2013, 11, 1), datetime.date(2013, 12, 1), datetime.date(2014, 1, 1), datetime.date(2014, 2, 1), datetime.date(2014, 3, 1), datetime.date(2014, 4, 1), datetime.date(2014, 5, 1), datetime.date(2014, 6, 1), datetime.date(2014, 7, 1), datetime.date(2014, 8, 1), datetime.date(2014, 9, 1), datetime.date(2014, 10, 1), datetime.date(2014, 11, 1), datetime.date(2014, 12, 1), datetime.date(2015, 1, 1), datetime.date(2015, 2, 1), datetime.date(2015, 3, 1), datetime.date(2015, 4, 1), datetime.date(2015, 5, 1), datetime.date(2015, 6, 1), datetime.date(2015, 7, 1), datetime.date(2015, 8, 1), datetime.date(2015, 9, 1), datetime.date(2015, 10, 1), datetime.date(2015, 11, 1), datetime.date(2015, 12, 1), datetime.date(2016, 1, 1), datetime.date(2016, 2, 1), datetime.date(2016, 3, 1), datetime.date(2016, 4, 1), datetime.date(2016, 5, 1), datetime.date(2016, 6, 1), datetime.date(2016, 7, 1), datetime.date(2016, 8, 1), datetime.date(2016, 9, 1), datetime.date(2016, 10, 1), datetime.date(2016, 11, 1), datetime.date(2016, 12, 1), datetime.date(2017, 1, 1), datetime.date(2017, 2, 1), datetime.date(2017, 3, 1), datetime.date(2017, 4, 1), datetime.date(2017, 5, 1), datetime.date(2017, 6, 1), datetime.date(2017, 7, 1)]\n"
          ]
        }
      ],
      "source": [
        "if len(temp_csvs)!=0:\n",
        "    temp_dates = [pd.to_datetime(t[-23:-13]).date() for t in temp_csvs]\n",
        "    print(temp_dates)\n",
        "else:\n",
        "    temp_dates = []"
      ]
    },
    {
      "cell_type": "code",
      "execution_count": null,
      "metadata": {
        "id": "rZsKt5FGMWAL"
      },
      "outputs": [],
      "source": [
        "import pickle"
      ]
    },
    {
      "cell_type": "code",
      "execution_count": null,
      "metadata": {
        "id": "A603b3C_52m0"
      },
      "outputs": [],
      "source": [
        "def start_data_enrichment(num1, num2):\n",
        "    print('[%s] Start enriching...' % datetime.now())\n",
        "    report_joined = {}\n",
        "    for id, row in m_df.iloc[num1:num2].iterrows():\n",
        "        i_date, j_date = row.i_date, row.j_date \n",
        "        if row.i_date in temp_dates:\n",
        "            print(row.i_date)\n",
        "        else:\n",
        "            df1 = df[(df['new_datetime'] >= i_date) & (df['new_datetime'] <= j_date)].copy()\n",
        "            df1['idx'] = list(range(len(df1.index)))\n",
        "            df1 = df1.set_index('idx')\n",
        "\n",
        "            energy = LocationTimeCustomerData(\n",
        "                df1,\n",
        "                LatLongColumn('lat', 'long'),\n",
        "                'new_datetime')\n",
        "\n",
        "            weather = NoaaIsdWeather(\n",
        "                cols=[\"temperature\", \"precipTime\", \"precipDepth\", \"snowDepth\"],\n",
        "                start_date=i_date,\n",
        "                end_date=j_date)\n",
        "\n",
        "            weather_enricher = weather.get_enricher()\n",
        "            new_energy, processed_weather = weather_enricher.enrich_customer_data_no_agg(\n",
        "                customer_data_object=energy,\n",
        "                location_match_granularity=5, # higher for high join success rate, lower for performance.\n",
        "                time_round_granularity='hour')\n",
        "            \n",
        "            # ---=== Begin of cusomtized aggregation ===---\n",
        "            \n",
        "            processed_weather.data['precipDepth'] = processed_weather.data['precipDepth'].apply(\n",
        "                lambda x: np.nan if x == 9999 else x)\n",
        "            processed_weather.data['precipTime'] = processed_weather.data['precipTime'].apply(\n",
        "                lambda x: np.nan if x == 99 else x)\n",
        "\n",
        "            processed_weather.data['precipDepth/precipTime'] = \\\n",
        "            processed_weather.data[['precipDepth', 'precipTime']].apply(\n",
        "                lambda x: np.nan if (\n",
        "                    pd.isna(x[0]) or pd.isna(x[1]) or x[1] == 0.0) else (x[0] / x[1]), axis=1)\n",
        "            \n",
        "            aggregations = {\n",
        "                \"temperature\": \"mean\",\n",
        "                \"snowDepth\": \"mean\",\n",
        "                \"precipDepth/precipTime\": \"mean\",\n",
        "                \"precipDepth\": \"max\",\n",
        "                \"precipTime\": \"max\"}\n",
        "            \n",
        "            public_rankgroup = processed_weather.id\n",
        "\n",
        "            public_join_time = [\n",
        "                s for s in list(processed_weather.data.columns)\n",
        "                if s.startswith('ds_join_time')][0]\n",
        "            print(public_join_time)\n",
        "            customer_rankgroup = weather_enricher.location_selector.customer_rankgroup\n",
        "\n",
        "            customer_join_time = [\n",
        "                s for s in list(new_energy.data.columns)\n",
        "                if s.startswith('customer_join_time')][0]\n",
        "            \n",
        "            # processed_weather.data[public_join_time].unique()\n",
        "            # print(list(processed_weather.data[public_join_time].unique()))\n",
        "            with open('date_list.pkl', 'wb') as f:\n",
        "                pickle.dump(list(processed_weather.data[public_join_time].unique()), f) \n",
        "\n",
        "            weather_df_grouped = processed_weather.data.groupby(\n",
        "                by=[public_rankgroup, public_join_time]).agg(aggregations)\n",
        "            \n",
        "            joined_dataset = new_energy.data.merge(\n",
        "                weather_df_grouped,\n",
        "                left_on=[customer_rankgroup, customer_join_time],\n",
        "                right_on=[public_rankgroup, public_join_time],\n",
        "                how='left')\n",
        "\n",
        "            final_df = joined_dataset[raw_columns + [\n",
        "                \"temperature\", \"precipTime\", \"precipDepth\", \"snowDepth\", \"precipDepth/precipTime\"]]\n",
        "\n",
        "            report_joined[i_date] = final_df.describe()\n",
        "            \n",
        "            # ---=== End of customized aggregation ===---\n",
        "            \n",
        "            fn = './temp/nyc_energy_enriched_%s.csv' % i_date\n",
        "            final_df.to_csv(fn)"
      ]
    },
    {
      "cell_type": "code",
      "execution_count": null,
      "metadata": {
        "colab": {
          "base_uri": "https://localhost:8080/"
        },
        "id": "B_IVJWDH7-Ux",
        "outputId": "e9ae01a7-753f-4833-c7bb-f014a5a31b92"
      },
      "outputs": [
        {
          "name": "stdout",
          "output_type": "stream",
          "text": [
            "[2023-03-06 23:16:51.721686] Start enriching...\n",
            "2012-01-01 00:00:00\n",
            "2012-02-01 00:00:00\n",
            "2012-03-01 00:00:00\n",
            "2012-04-01 00:00:00\n",
            "2012-05-01 00:00:00\n"
          ]
        },
        {
          "name": "stderr",
          "output_type": "stream",
          "text": [
            "<ipython-input-17-5dc6c604f338>:6: FutureWarning: Comparison of Timestamp with datetime.date is deprecated in order to match the standard library behavior.  In a future version these will be considered non-comparable.Use 'ts == pd.Timestamp(date)' or 'ts.date() == date' instead.\n",
            "  if row.i_date in temp_dates:\n"
          ]
        }
      ],
      "source": [
        "start_data_enrichment(0, 5)"
      ]
    },
    {
      "cell_type": "code",
      "execution_count": null,
      "metadata": {
        "colab": {
          "base_uri": "https://localhost:8080/"
        },
        "id": "21ca_O5t8Q5M",
        "outputId": "cb3d2d3b-9902-4941-d9b7-a90e2fe0c3ea"
      },
      "outputs": [
        {
          "name": "stdout",
          "output_type": "stream",
          "text": [
            "[2023-03-06 23:16:53.640500] Start enriching...\n",
            "2012-06-01 00:00:00\n",
            "2012-07-01 00:00:00\n",
            "2012-08-01 00:00:00\n",
            "2012-09-01 00:00:00\n",
            "2012-10-01 00:00:00\n"
          ]
        },
        {
          "name": "stderr",
          "output_type": "stream",
          "text": [
            "<ipython-input-17-5dc6c604f338>:6: FutureWarning: Comparison of Timestamp with datetime.date is deprecated in order to match the standard library behavior.  In a future version these will be considered non-comparable.Use 'ts == pd.Timestamp(date)' or 'ts.date() == date' instead.\n",
            "  if row.i_date in temp_dates:\n"
          ]
        }
      ],
      "source": [
        "start_data_enrichment(5, 10)"
      ]
    },
    {
      "cell_type": "code",
      "execution_count": null,
      "metadata": {
        "colab": {
          "base_uri": "https://localhost:8080/"
        },
        "id": "HtMRALGKAxHo",
        "outputId": "774759d0-e7e6-403b-8365-252ebbe29313"
      },
      "outputs": [
        {
          "name": "stdout",
          "output_type": "stream",
          "text": [
            "[2023-03-06 23:18:56.236738] Start enriching...\n",
            "2012-11-01 00:00:00\n",
            "2012-12-01 00:00:00\n",
            "2013-01-01 00:00:00\n",
            "2013-02-01 00:00:00\n",
            "2013-03-01 00:00:00\n",
            "2013-04-01 00:00:00\n",
            "2013-05-01 00:00:00\n",
            "2013-06-01 00:00:00\n",
            "2013-07-01 00:00:00\n",
            "2013-08-01 00:00:00\n",
            "2013-09-01 00:00:00\n",
            "2013-10-01 00:00:00\n",
            "2013-11-01 00:00:00\n",
            "2013-12-01 00:00:00\n",
            "2014-01-01 00:00:00\n",
            "2014-02-01 00:00:00\n",
            "2014-03-01 00:00:00\n",
            "2014-04-01 00:00:00\n",
            "2014-05-01 00:00:00\n",
            "2014-06-01 00:00:00\n",
            "2014-07-01 00:00:00\n",
            "2014-08-01 00:00:00\n",
            "2014-09-01 00:00:00\n",
            "2014-10-01 00:00:00\n",
            "2014-11-01 00:00:00\n",
            "2014-12-01 00:00:00\n",
            "2015-01-01 00:00:00\n",
            "2015-02-01 00:00:00\n",
            "2015-03-01 00:00:00\n",
            "2015-04-01 00:00:00\n",
            "2015-05-01 00:00:00\n",
            "2015-06-01 00:00:00\n",
            "2015-07-01 00:00:00\n",
            "2015-08-01 00:00:00\n",
            "2015-09-01 00:00:00\n",
            "2015-10-01 00:00:00\n",
            "2015-11-01 00:00:00\n",
            "2015-12-01 00:00:00\n",
            "2016-01-01 00:00:00\n",
            "2016-02-01 00:00:00\n",
            "2016-03-01 00:00:00\n",
            "2016-04-01 00:00:00\n",
            "2016-05-01 00:00:00\n",
            "2016-06-01 00:00:00\n",
            "2016-07-01 00:00:00\n",
            "2016-08-01 00:00:00\n",
            "2016-09-01 00:00:00\n",
            "2016-10-01 00:00:00\n",
            "2016-11-01 00:00:00\n",
            "2016-12-01 00:00:00\n",
            "2017-01-01 00:00:00\n",
            "2017-02-01 00:00:00\n",
            "2017-03-01 00:00:00\n",
            "2017-04-01 00:00:00\n",
            "2017-05-01 00:00:00\n",
            "2017-06-01 00:00:00\n",
            "2017-07-01 00:00:00\n"
          ]
        },
        {
          "name": "stderr",
          "output_type": "stream",
          "text": [
            "<ipython-input-17-5dc6c604f338>:6: FutureWarning: Comparison of Timestamp with datetime.date is deprecated in order to match the standard library behavior.  In a future version these will be considered non-comparable.Use 'ts == pd.Timestamp(date)' or 'ts.date() == date' instead.\n",
            "  if row.i_date in temp_dates:\n"
          ]
        },
        {
          "name": "stdout",
          "output_type": "stream",
          "text": [
            "[Info] read from /tmp/tmplm5rhtgp/https%3A/%2Fazureopendatastorage.azurefd.net/isdweatherdatacontainer/ISDWeather/year=2017/month=8/part-00000-tid-5175975263333548477-7aeb615b-cca2-42d5-99cc-5022a6daac8d-2609-8.c000.snappy.parquet\n",
            "[Info] read from /tmp/tmplm5rhtgp/https%3A/%2Fazureopendatastorage.azurefd.net/isdweatherdatacontainer/ISDWeather/year=2017/month=8/part-00002-tid-5175975263333548477-7aeb615b-cca2-42d5-99cc-5022a6daac8d-2607-8.c000.snappy.parquet\n",
            "[Info] read from /tmp/tmplm5rhtgp/https%3A/%2Fazureopendatastorage.azurefd.net/isdweatherdatacontainer/ISDWeather/year=2017/month=8/part-00004-tid-5175975263333548477-7aeb615b-cca2-42d5-99cc-5022a6daac8d-2610-8.c000.snappy.parquet\n",
            "[Info] read from /tmp/tmplm5rhtgp/https%3A/%2Fazureopendatastorage.azurefd.net/isdweatherdatacontainer/ISDWeather/year=2017/month=8/part-00006-tid-5175975263333548477-7aeb615b-cca2-42d5-99cc-5022a6daac8d-2611-8.c000.snappy.parquet\n",
            "[Info] read from /tmp/tmplm5rhtgp/https%3A/%2Fazureopendatastorage.azurefd.net/isdweatherdatacontainer/ISDWeather/year=2017/month=8/part-00001-tid-5175975263333548477-7aeb615b-cca2-42d5-99cc-5022a6daac8d-2605-8.c000.snappy.parquet\n",
            "[Info] read from /tmp/tmplm5rhtgp/https%3A/%2Fazureopendatastorage.azurefd.net/isdweatherdatacontainer/ISDWeather/year=2017/month=8/part-00003-tid-5175975263333548477-7aeb615b-cca2-42d5-99cc-5022a6daac8d-2608-8.c000.snappy.parquet\n",
            "[Info] read from /tmp/tmplm5rhtgp/https%3A/%2Fazureopendatastorage.azurefd.net/isdweatherdatacontainer/ISDWeather/year=2017/month=8/part-00005-tid-5175975263333548477-7aeb615b-cca2-42d5-99cc-5022a6daac8d-2606-8.c000.snappy.parquet\n",
            "[Info] read from /tmp/tmplm5rhtgp/https%3A/%2Fazureopendatastorage.azurefd.net/isdweatherdatacontainer/ISDWeather/year=2017/month=8/part-00007-tid-5175975263333548477-7aeb615b-cca2-42d5-99cc-5022a6daac8d-2604-8.c000.snappy.parquet\n",
            "ds_join_time9hkmj\n"
          ]
        }
      ],
      "source": [
        "start_data_enrichment(10, None)"
      ]
    },
    {
      "cell_type": "code",
      "execution_count": null,
      "metadata": {
        "id": "kEGnVmaVwV0D"
      },
      "outputs": [],
      "source": [
        "all = pd.DataFrame([])"
      ]
    },
    {
      "cell_type": "code",
      "execution_count": null,
      "metadata": {
        "colab": {
          "base_uri": "https://localhost:8080/"
        },
        "id": "ouV_gm1itVAO",
        "outputId": "1cdf4668-2958-408b-a1ae-4eddee7d042c"
      },
      "outputs": [
        {
          "name": "stdout",
          "output_type": "stream",
          "text": [
            "[2023-03-06 23:21:30.647595] End enriching...\n"
          ]
        }
      ],
      "source": [
        "for tmp_csv in glob.glob(os.path.join(\"./temp\", \"*.csv\")):\n",
        "    final_df = pd.read_csv(tmp_csv)\n",
        "    all = pd.concat([all, final_df])\n",
        "    all.to_csv('./nyc_energy_enriched.csv')\n",
        "\n",
        "print('[%s] End enriching...' % datetime.now())"
      ]
    },
    {
      "cell_type": "code",
      "execution_count": null,
      "metadata": {
        "id": "oqQ6lnlKtmt8"
      },
      "outputs": [],
      "source": [
        "final_df_list = [pd.read_csv(tmp_csv) for tmp_csv in glob.glob(os.path.join(\"./temp\", \"*.csv\"))]"
      ]
    },
    {
      "cell_type": "code",
      "execution_count": null,
      "metadata": {
        "id": "v5W50wy9PlW-"
      },
      "outputs": [],
      "source": [
        "fdf = pd.concat(final_df_list)"
      ]
    },
    {
      "cell_type": "code",
      "execution_count": null,
      "metadata": {
        "id": "YIKNuDalPpr8"
      },
      "outputs": [],
      "source": [
        "fdf.to_csv(os.path.join('data','nyc_energy_data.csv'))"
      ]
    },
    {
      "cell_type": "code",
      "execution_count": null,
      "metadata": {
        "id": "6wcGT6MNP43C"
      },
      "outputs": [],
      "source": []
    }
  ],
  "metadata": {
    "colab": {
      "provenance": []
    },
    "kernelspec": {
      "display_name": "Python 3",
      "name": "python3"
    },
    "language_info": {
      "codemirror_mode": {
        "name": "ipython",
        "version": 3
      },
      "file_extension": ".py",
      "mimetype": "text/x-python",
      "name": "python",
      "nbconvert_exporter": "python",
      "pygments_lexer": "ipython3",
      "version": "3.8.15"
    }
  },
  "nbformat": 4,
  "nbformat_minor": 0
}
