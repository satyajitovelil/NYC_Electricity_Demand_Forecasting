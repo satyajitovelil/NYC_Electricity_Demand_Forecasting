{
 "cells": [
  {
   "cell_type": "code",
   "execution_count": 1,
   "metadata": {},
   "outputs": [
    {
     "data": {
      "text/plain": [
       "(datetime.datetime(2012, 1, 1, 0, 0), datetime.datetime(2017, 8, 12, 23, 59))"
      ]
     },
     "execution_count": 1,
     "metadata": {},
     "output_type": "execute_result"
    }
   ],
   "source": [
    "from datetime import datetime\n",
    "\n",
    "\n",
    "start_date = datetime(2012, 1, 1, 0, 0)\n",
    "end_date = datetime(2017, 8, 12, 23, 59)\n",
    "\n",
    "start_date, end_date"
   ]
  },
  {
   "cell_type": "code",
   "execution_count": 2,
   "metadata": {},
   "outputs": [
    {
     "data": {
      "text/plain": [
       "68"
      ]
     },
     "execution_count": 2,
     "metadata": {},
     "output_type": "execute_result"
    }
   ],
   "source": [
    "from datetime import timedelta\n",
    "from dateutil.relativedelta import relativedelta\n",
    "\n",
    "import math\n",
    "\n",
    "\n",
    "r = relativedelta(end_date, start_date)\n",
    "months = r.years * 12 + r.months + math.floor((r.days + 30)/31)\n",
    "months"
   ]
  },
  {
   "cell_type": "code",
   "execution_count": 3,
   "metadata": {},
   "outputs": [
    {
     "data": {
      "text/plain": [
       "(40.701, -74.009)"
      ]
     },
     "execution_count": 3,
     "metadata": {},
     "output_type": "execute_result"
    }
   ],
   "source": [
    "lat, long = 40.701, -74.009\n",
    "lat, long"
   ]
  },
  {
   "cell_type": "code",
   "execution_count": 4,
   "metadata": {},
   "outputs": [
    {
     "data": {
      "text/html": [
       "<div>\n",
       "<style scoped>\n",
       "    .dataframe tbody tr th:only-of-type {\n",
       "        vertical-align: middle;\n",
       "    }\n",
       "\n",
       "    .dataframe tbody tr th {\n",
       "        vertical-align: top;\n",
       "    }\n",
       "\n",
       "    .dataframe thead th {\n",
       "        text-align: right;\n",
       "    }\n",
       "</style>\n",
       "<table border=\"1\" class=\"dataframe\">\n",
       "  <thead>\n",
       "    <tr style=\"text-align: right;\">\n",
       "      <th></th>\n",
       "      <th>timeStamp</th>\n",
       "      <th>demand</th>\n",
       "      <th>lat</th>\n",
       "      <th>long</th>\n",
       "    </tr>\n",
       "  </thead>\n",
       "  <tbody>\n",
       "    <tr>\n",
       "      <th>0</th>\n",
       "      <td>2012-01-01 00:00:00</td>\n",
       "      <td>4937.5</td>\n",
       "      <td>40.701</td>\n",
       "      <td>-74.009</td>\n",
       "    </tr>\n",
       "    <tr>\n",
       "      <th>1</th>\n",
       "      <td>2012-01-01 01:00:00</td>\n",
       "      <td>4752.1</td>\n",
       "      <td>40.701</td>\n",
       "      <td>-74.009</td>\n",
       "    </tr>\n",
       "    <tr>\n",
       "      <th>2</th>\n",
       "      <td>2012-01-01 02:00:00</td>\n",
       "      <td>4542.6</td>\n",
       "      <td>40.701</td>\n",
       "      <td>-74.009</td>\n",
       "    </tr>\n",
       "    <tr>\n",
       "      <th>3</th>\n",
       "      <td>2012-01-01 03:00:00</td>\n",
       "      <td>4357.7</td>\n",
       "      <td>40.701</td>\n",
       "      <td>-74.009</td>\n",
       "    </tr>\n",
       "    <tr>\n",
       "      <th>4</th>\n",
       "      <td>2012-01-01 04:00:00</td>\n",
       "      <td>4275.5</td>\n",
       "      <td>40.701</td>\n",
       "      <td>-74.009</td>\n",
       "    </tr>\n",
       "  </tbody>\n",
       "</table>\n",
       "</div>"
      ],
      "text/plain": [
       "             timeStamp  demand     lat    long\n",
       "0  2012-01-01 00:00:00  4937.5  40.701 -74.009\n",
       "1  2012-01-01 01:00:00  4752.1  40.701 -74.009\n",
       "2  2012-01-01 02:00:00  4542.6  40.701 -74.009\n",
       "3  2012-01-01 03:00:00  4357.7  40.701 -74.009\n",
       "4  2012-01-01 04:00:00  4275.5  40.701 -74.009"
      ]
     },
     "execution_count": 4,
     "metadata": {},
     "output_type": "execute_result"
    }
   ],
   "source": [
    "from pandas import read_csv\n",
    "\n",
    "\n",
    "df = read_csv('data/nyc_energy.csv').drop(columns=['precip', 'temp'], axis=1)\n",
    "df['lat'] = lat\n",
    "df['long'] = long\n",
    "df.head(5)"
   ]
  },
  {
   "cell_type": "code",
   "execution_count": 5,
   "metadata": {},
   "outputs": [
    {
     "data": {
      "text/html": [
       "<div>\n",
       "<style scoped>\n",
       "    .dataframe tbody tr th:only-of-type {\n",
       "        vertical-align: middle;\n",
       "    }\n",
       "\n",
       "    .dataframe tbody tr th {\n",
       "        vertical-align: top;\n",
       "    }\n",
       "\n",
       "    .dataframe thead th {\n",
       "        text-align: right;\n",
       "    }\n",
       "</style>\n",
       "<table border=\"1\" class=\"dataframe\">\n",
       "  <thead>\n",
       "    <tr style=\"text-align: right;\">\n",
       "      <th></th>\n",
       "      <th>timeStamp</th>\n",
       "      <th>demand</th>\n",
       "      <th>lat</th>\n",
       "      <th>long</th>\n",
       "    </tr>\n",
       "  </thead>\n",
       "  <tbody>\n",
       "    <tr>\n",
       "      <th>49200</th>\n",
       "      <td>2017-08-12 02:00:00</td>\n",
       "      <td>NaN</td>\n",
       "      <td>40.701</td>\n",
       "      <td>-74.009</td>\n",
       "    </tr>\n",
       "    <tr>\n",
       "      <th>49201</th>\n",
       "      <td>2017-08-12 03:00:00</td>\n",
       "      <td>NaN</td>\n",
       "      <td>40.701</td>\n",
       "      <td>-74.009</td>\n",
       "    </tr>\n",
       "    <tr>\n",
       "      <th>49202</th>\n",
       "      <td>2017-08-12 04:00:00</td>\n",
       "      <td>NaN</td>\n",
       "      <td>40.701</td>\n",
       "      <td>-74.009</td>\n",
       "    </tr>\n",
       "    <tr>\n",
       "      <th>49203</th>\n",
       "      <td>2017-08-12 05:00:00</td>\n",
       "      <td>NaN</td>\n",
       "      <td>40.701</td>\n",
       "      <td>-74.009</td>\n",
       "    </tr>\n",
       "    <tr>\n",
       "      <th>49204</th>\n",
       "      <td>2017-08-12 06:00:00</td>\n",
       "      <td>NaN</td>\n",
       "      <td>40.701</td>\n",
       "      <td>-74.009</td>\n",
       "    </tr>\n",
       "  </tbody>\n",
       "</table>\n",
       "</div>"
      ],
      "text/plain": [
       "                 timeStamp  demand     lat    long\n",
       "49200  2017-08-12 02:00:00     NaN  40.701 -74.009\n",
       "49201  2017-08-12 03:00:00     NaN  40.701 -74.009\n",
       "49202  2017-08-12 04:00:00     NaN  40.701 -74.009\n",
       "49203  2017-08-12 05:00:00     NaN  40.701 -74.009\n",
       "49204  2017-08-12 06:00:00     NaN  40.701 -74.009"
      ]
     },
     "execution_count": 5,
     "metadata": {},
     "output_type": "execute_result"
    }
   ],
   "source": [
    "df.tail()"
   ]
  },
  {
   "cell_type": "code",
   "execution_count": 6,
   "metadata": {},
   "outputs": [],
   "source": [
    "import os.path\n",
    "import pandas as pd\n",
    "import numpy as np\n",
    "from azureml.opendatasets.accessories.location_data import LatLongColumn\n",
    "from azureml.opendatasets.accessories.location_time_customer_data \\\n",
    "    import LocationTimeCustomerData\n",
    "from azureml.opendatasets import NoaaIsdWeather\n",
    "from azureml.opendatasets.environ import PandasEnv"
   ]
  },
  {
   "cell_type": "code",
   "execution_count": 7,
   "metadata": {},
   "outputs": [
    {
     "data": {
      "text/html": [
       "<div>\n",
       "<style scoped>\n",
       "    .dataframe tbody tr th:only-of-type {\n",
       "        vertical-align: middle;\n",
       "    }\n",
       "\n",
       "    .dataframe tbody tr th {\n",
       "        vertical-align: top;\n",
       "    }\n",
       "\n",
       "    .dataframe thead th {\n",
       "        text-align: right;\n",
       "    }\n",
       "</style>\n",
       "<table border=\"1\" class=\"dataframe\">\n",
       "  <thead>\n",
       "    <tr style=\"text-align: right;\">\n",
       "      <th></th>\n",
       "      <th>timeStamp</th>\n",
       "      <th>demand</th>\n",
       "      <th>lat</th>\n",
       "      <th>long</th>\n",
       "      <th>new_datetime</th>\n",
       "    </tr>\n",
       "  </thead>\n",
       "  <tbody>\n",
       "    <tr>\n",
       "      <th>0</th>\n",
       "      <td>2012-01-01 00:00:00</td>\n",
       "      <td>4937.5</td>\n",
       "      <td>40.701</td>\n",
       "      <td>-74.009</td>\n",
       "      <td>2012-01-01 00:00:00</td>\n",
       "    </tr>\n",
       "    <tr>\n",
       "      <th>1</th>\n",
       "      <td>2012-01-01 01:00:00</td>\n",
       "      <td>4752.1</td>\n",
       "      <td>40.701</td>\n",
       "      <td>-74.009</td>\n",
       "      <td>2012-01-01 01:00:00</td>\n",
       "    </tr>\n",
       "    <tr>\n",
       "      <th>2</th>\n",
       "      <td>2012-01-01 02:00:00</td>\n",
       "      <td>4542.6</td>\n",
       "      <td>40.701</td>\n",
       "      <td>-74.009</td>\n",
       "      <td>2012-01-01 02:00:00</td>\n",
       "    </tr>\n",
       "    <tr>\n",
       "      <th>3</th>\n",
       "      <td>2012-01-01 03:00:00</td>\n",
       "      <td>4357.7</td>\n",
       "      <td>40.701</td>\n",
       "      <td>-74.009</td>\n",
       "      <td>2012-01-01 03:00:00</td>\n",
       "    </tr>\n",
       "    <tr>\n",
       "      <th>4</th>\n",
       "      <td>2012-01-01 04:00:00</td>\n",
       "      <td>4275.5</td>\n",
       "      <td>40.701</td>\n",
       "      <td>-74.009</td>\n",
       "      <td>2012-01-01 04:00:00</td>\n",
       "    </tr>\n",
       "  </tbody>\n",
       "</table>\n",
       "</div>"
      ],
      "text/plain": [
       "             timeStamp  demand     lat    long        new_datetime\n",
       "0  2012-01-01 00:00:00  4937.5  40.701 -74.009 2012-01-01 00:00:00\n",
       "1  2012-01-01 01:00:00  4752.1  40.701 -74.009 2012-01-01 01:00:00\n",
       "2  2012-01-01 02:00:00  4542.6  40.701 -74.009 2012-01-01 02:00:00\n",
       "3  2012-01-01 03:00:00  4357.7  40.701 -74.009 2012-01-01 03:00:00\n",
       "4  2012-01-01 04:00:00  4275.5  40.701 -74.009 2012-01-01 04:00:00"
      ]
     },
     "execution_count": 7,
     "metadata": {},
     "output_type": "execute_result"
    }
   ],
   "source": [
    "from dateutil import parser\n",
    "\n",
    "\n",
    "df['new_datetime'] = df['timeStamp'].apply(parser.parse)\n",
    "raw_columns = list(df.columns)\n",
    "df.head(5)"
   ]
  },
  {
   "cell_type": "code",
   "execution_count": 30,
   "metadata": {},
   "outputs": [],
   "source": [
    "all = pd.DataFrame([])\n",
    "report_joined = {}\n",
    "i_date = start_date"
   ]
  },
  {
   "cell_type": "code",
   "execution_count": 9,
   "metadata": {},
   "outputs": [],
   "source": [
    "mi = iter(range(months))"
   ]
  },
  {
   "cell_type": "code",
   "execution_count": 17,
   "metadata": {},
   "outputs": [
    {
     "data": {
      "text/plain": [
       "7"
      ]
     },
     "execution_count": 17,
     "metadata": {},
     "output_type": "execute_result"
    }
   ],
   "source": [
    "m = next(mi)\n",
    "m"
   ]
  },
  {
   "cell_type": "code",
   "execution_count": 28,
   "metadata": {},
   "outputs": [
    {
     "data": {
      "text/plain": [
       "datetime.datetime(2012, 8, 31, 23, 59, 59, 999000)"
      ]
     },
     "execution_count": 28,
     "metadata": {},
     "output_type": "execute_result"
    }
   ],
   "source": [
    "# for m in range(months):\n",
    "j_date = i_date + relativedelta(months=1) - timedelta(milliseconds=1)\n",
    "j_date"
   ]
  },
  {
   "cell_type": "code",
   "execution_count": 29,
   "metadata": {},
   "outputs": [
    {
     "data": {
      "text/plain": [
       "(datetime.datetime(2012, 8, 1, 0, 0),\n",
       " datetime.datetime(2012, 8, 31, 23, 59, 59, 999000))"
      ]
     },
     "execution_count": 29,
     "metadata": {},
     "output_type": "execute_result"
    }
   ],
   "source": [
    "i_date, j_date"
   ]
  },
  {
   "cell_type": "code",
   "execution_count": 31,
   "metadata": {},
   "outputs": [
    {
     "name": "stdout",
     "output_type": "stream",
     "text": [
      "Running Weather Enricher\n",
      "[Info] read from C:\\Users\\Satya\\AppData\\Local\\Temp\\tmpk0to43h8\\https%3A/%2Fazureopendatastorage.azurefd.net/isdweatherdatacontainer/ISDWeather/year=2012/month=1/part-00000-tid-1176268934493077726-e9239a20-3ec9-41f2-904f-d82d127e4049-4900-1.c000.snappy.parquet\n",
      "[Info] read from C:\\Users\\Satya\\AppData\\Local\\Temp\\tmpk0to43h8\\https%3A/%2Fazureopendatastorage.azurefd.net/isdweatherdatacontainer/ISDWeather/year=2012/month=2/part-00000-tid-1176268934493077726-e9239a20-3ec9-41f2-904f-d82d127e4049-4900-2.c000.snappy.parquet\n",
      "[Info] read from C:\\Users\\Satya\\AppData\\Local\\Temp\\tmpk0to43h8\\https%3A/%2Fazureopendatastorage.azurefd.net/isdweatherdatacontainer/ISDWeather/year=2012/month=3/part-00000-tid-1176268934493077726-e9239a20-3ec9-41f2-904f-d82d127e4049-4900-3.c000.snappy.parquet\n",
      "[Info] read from C:\\Users\\Satya\\AppData\\Local\\Temp\\tmpk0to43h8\\https%3A/%2Fazureopendatastorage.azurefd.net/isdweatherdatacontainer/ISDWeather/year=2012/month=4/part-00000-tid-1176268934493077726-e9239a20-3ec9-41f2-904f-d82d127e4049-4900-4.c000.snappy.parquet\n",
      "[Info] read from C:\\Users\\Satya\\AppData\\Local\\Temp\\tmpk0to43h8\\https%3A/%2Fazureopendatastorage.azurefd.net/isdweatherdatacontainer/ISDWeather/year=2012/month=5/part-00000-tid-1176268934493077726-e9239a20-3ec9-41f2-904f-d82d127e4049-4900-5.c000.snappy.parquet\n",
      "[Info] read from C:\\Users\\Satya\\AppData\\Local\\Temp\\tmpk0to43h8\\https%3A/%2Fazureopendatastorage.azurefd.net/isdweatherdatacontainer/ISDWeather/year=2012/month=6/part-00000-tid-1176268934493077726-e9239a20-3ec9-41f2-904f-d82d127e4049-4900-6.c000.snappy.parquet\n",
      "[Info] read from C:\\Users\\Satya\\AppData\\Local\\Temp\\tmpk0to43h8\\https%3A/%2Fazureopendatastorage.azurefd.net/isdweatherdatacontainer/ISDWeather/year=2012/month=7/part-00000-tid-1176268934493077726-e9239a20-3ec9-41f2-904f-d82d127e4049-4900-7.c000.snappy.parquet\n",
      "[Info] read from C:\\Users\\Satya\\AppData\\Local\\Temp\\tmpk0to43h8\\https%3A/%2Fazureopendatastorage.azurefd.net/isdweatherdatacontainer/ISDWeather/year=2012/month=8/part-00000-tid-1176268934493077726-e9239a20-3ec9-41f2-904f-d82d127e4049-4900-8.c000.snappy.parquet\n",
      "[Info] read from C:\\Users\\Satya\\AppData\\Local\\Temp\\tmpk0to43h8\\https%3A/%2Fazureopendatastorage.azurefd.net/isdweatherdatacontainer/ISDWeather/year=2012/month=1/part-00001-tid-1176268934493077726-e9239a20-3ec9-41f2-904f-d82d127e4049-4904-1.c000.snappy.parquet\n",
      "[Info] read from C:\\Users\\Satya\\AppData\\Local\\Temp\\tmpk0to43h8\\https%3A/%2Fazureopendatastorage.azurefd.net/isdweatherdatacontainer/ISDWeather/year=2012/month=2/part-00001-tid-1176268934493077726-e9239a20-3ec9-41f2-904f-d82d127e4049-4904-2.c000.snappy.parquet\n",
      "[Info] read from C:\\Users\\Satya\\AppData\\Local\\Temp\\tmpk0to43h8\\https%3A/%2Fazureopendatastorage.azurefd.net/isdweatherdatacontainer/ISDWeather/year=2012/month=3/part-00001-tid-1176268934493077726-e9239a20-3ec9-41f2-904f-d82d127e4049-4904-3.c000.snappy.parquet\n",
      "[Info] read from C:\\Users\\Satya\\AppData\\Local\\Temp\\tmpk0to43h8\\https%3A/%2Fazureopendatastorage.azurefd.net/isdweatherdatacontainer/ISDWeather/year=2012/month=4/part-00001-tid-1176268934493077726-e9239a20-3ec9-41f2-904f-d82d127e4049-4904-4.c000.snappy.parquet\n",
      "[Info] read from C:\\Users\\Satya\\AppData\\Local\\Temp\\tmpk0to43h8\\https%3A/%2Fazureopendatastorage.azurefd.net/isdweatherdatacontainer/ISDWeather/year=2012/month=5/part-00001-tid-1176268934493077726-e9239a20-3ec9-41f2-904f-d82d127e4049-4904-5.c000.snappy.parquet\n",
      "[Info] read from C:\\Users\\Satya\\AppData\\Local\\Temp\\tmpk0to43h8\\https%3A/%2Fazureopendatastorage.azurefd.net/isdweatherdatacontainer/ISDWeather/year=2012/month=6/part-00001-tid-1176268934493077726-e9239a20-3ec9-41f2-904f-d82d127e4049-4904-6.c000.snappy.parquet\n",
      "[Info] read from C:\\Users\\Satya\\AppData\\Local\\Temp\\tmpk0to43h8\\https%3A/%2Fazureopendatastorage.azurefd.net/isdweatherdatacontainer/ISDWeather/year=2012/month=7/part-00001-tid-1176268934493077726-e9239a20-3ec9-41f2-904f-d82d127e4049-4904-7.c000.snappy.parquet\n",
      "[Info] read from C:\\Users\\Satya\\AppData\\Local\\Temp\\tmpk0to43h8\\https%3A/%2Fazureopendatastorage.azurefd.net/isdweatherdatacontainer/ISDWeather/year=2012/month=8/part-00001-tid-1176268934493077726-e9239a20-3ec9-41f2-904f-d82d127e4049-4904-8.c000.snappy.parquet\n",
      "[Info] read from C:\\Users\\Satya\\AppData\\Local\\Temp\\tmpk0to43h8\\https%3A/%2Fazureopendatastorage.azurefd.net/isdweatherdatacontainer/ISDWeather/year=2012/month=1/part-00002-tid-1176268934493077726-e9239a20-3ec9-41f2-904f-d82d127e4049-4903-1.c000.snappy.parquet\n",
      "[Info] read from C:\\Users\\Satya\\AppData\\Local\\Temp\\tmpk0to43h8\\https%3A/%2Fazureopendatastorage.azurefd.net/isdweatherdatacontainer/ISDWeather/year=2012/month=2/part-00002-tid-1176268934493077726-e9239a20-3ec9-41f2-904f-d82d127e4049-4903-2.c000.snappy.parquet\n",
      "[Info] read from C:\\Users\\Satya\\AppData\\Local\\Temp\\tmpk0to43h8\\https%3A/%2Fazureopendatastorage.azurefd.net/isdweatherdatacontainer/ISDWeather/year=2012/month=3/part-00002-tid-1176268934493077726-e9239a20-3ec9-41f2-904f-d82d127e4049-4903-3.c000.snappy.parquet\n",
      "[Info] read from C:\\Users\\Satya\\AppData\\Local\\Temp\\tmpk0to43h8\\https%3A/%2Fazureopendatastorage.azurefd.net/isdweatherdatacontainer/ISDWeather/year=2012/month=4/part-00002-tid-1176268934493077726-e9239a20-3ec9-41f2-904f-d82d127e4049-4903-4.c000.snappy.parquet\n",
      "[Info] read from C:\\Users\\Satya\\AppData\\Local\\Temp\\tmpk0to43h8\\https%3A/%2Fazureopendatastorage.azurefd.net/isdweatherdatacontainer/ISDWeather/year=2012/month=5/part-00002-tid-1176268934493077726-e9239a20-3ec9-41f2-904f-d82d127e4049-4903-5.c000.snappy.parquet\n",
      "[Info] read from C:\\Users\\Satya\\AppData\\Local\\Temp\\tmpk0to43h8\\https%3A/%2Fazureopendatastorage.azurefd.net/isdweatherdatacontainer/ISDWeather/year=2012/month=6/part-00002-tid-1176268934493077726-e9239a20-3ec9-41f2-904f-d82d127e4049-4903-6.c000.snappy.parquet\n",
      "[Info] read from C:\\Users\\Satya\\AppData\\Local\\Temp\\tmpk0to43h8\\https%3A/%2Fazureopendatastorage.azurefd.net/isdweatherdatacontainer/ISDWeather/year=2012/month=7/part-00002-tid-1176268934493077726-e9239a20-3ec9-41f2-904f-d82d127e4049-4903-7.c000.snappy.parquet\n",
      "[Info] read from C:\\Users\\Satya\\AppData\\Local\\Temp\\tmpk0to43h8\\https%3A/%2Fazureopendatastorage.azurefd.net/isdweatherdatacontainer/ISDWeather/year=2012/month=8/part-00002-tid-1176268934493077726-e9239a20-3ec9-41f2-904f-d82d127e4049-4903-8.c000.snappy.parquet\n",
      "[Info] read from C:\\Users\\Satya\\AppData\\Local\\Temp\\tmpk0to43h8\\https%3A/%2Fazureopendatastorage.azurefd.net/isdweatherdatacontainer/ISDWeather/year=2012/month=1/part-00003-tid-1176268934493077726-e9239a20-3ec9-41f2-904f-d82d127e4049-4899-1.c000.snappy.parquet\n",
      "[Info] read from C:\\Users\\Satya\\AppData\\Local\\Temp\\tmpk0to43h8\\https%3A/%2Fazureopendatastorage.azurefd.net/isdweatherdatacontainer/ISDWeather/year=2012/month=2/part-00003-tid-1176268934493077726-e9239a20-3ec9-41f2-904f-d82d127e4049-4899-2.c000.snappy.parquet\n",
      "[Info] read from C:\\Users\\Satya\\AppData\\Local\\Temp\\tmpk0to43h8\\https%3A/%2Fazureopendatastorage.azurefd.net/isdweatherdatacontainer/ISDWeather/year=2012/month=3/part-00003-tid-1176268934493077726-e9239a20-3ec9-41f2-904f-d82d127e4049-4899-3.c000.snappy.parquet\n",
      "[Info] read from C:\\Users\\Satya\\AppData\\Local\\Temp\\tmpk0to43h8\\https%3A/%2Fazureopendatastorage.azurefd.net/isdweatherdatacontainer/ISDWeather/year=2012/month=4/part-00003-tid-1176268934493077726-e9239a20-3ec9-41f2-904f-d82d127e4049-4899-4.c000.snappy.parquet\n",
      "[Info] read from C:\\Users\\Satya\\AppData\\Local\\Temp\\tmpk0to43h8\\https%3A/%2Fazureopendatastorage.azurefd.net/isdweatherdatacontainer/ISDWeather/year=2012/month=5/part-00003-tid-1176268934493077726-e9239a20-3ec9-41f2-904f-d82d127e4049-4899-5.c000.snappy.parquet\n",
      "[Info] read from C:\\Users\\Satya\\AppData\\Local\\Temp\\tmpk0to43h8\\https%3A/%2Fazureopendatastorage.azurefd.net/isdweatherdatacontainer/ISDWeather/year=2012/month=6/part-00003-tid-1176268934493077726-e9239a20-3ec9-41f2-904f-d82d127e4049-4899-6.c000.snappy.parquet\n",
      "[Info] read from C:\\Users\\Satya\\AppData\\Local\\Temp\\tmpk0to43h8\\https%3A/%2Fazureopendatastorage.azurefd.net/isdweatherdatacontainer/ISDWeather/year=2012/month=7/part-00003-tid-1176268934493077726-e9239a20-3ec9-41f2-904f-d82d127e4049-4899-7.c000.snappy.parquet\n",
      "[Info] read from C:\\Users\\Satya\\AppData\\Local\\Temp\\tmpk0to43h8\\https%3A/%2Fazureopendatastorage.azurefd.net/isdweatherdatacontainer/ISDWeather/year=2012/month=8/part-00003-tid-1176268934493077726-e9239a20-3ec9-41f2-904f-d82d127e4049-4899-8.c000.snappy.parquet\n",
      "[Info] read from C:\\Users\\Satya\\AppData\\Local\\Temp\\tmpk0to43h8\\https%3A/%2Fazureopendatastorage.azurefd.net/isdweatherdatacontainer/ISDWeather/year=2012/month=1/part-00004-tid-1176268934493077726-e9239a20-3ec9-41f2-904f-d82d127e4049-4902-1.c000.snappy.parquet\n",
      "[Info] read from C:\\Users\\Satya\\AppData\\Local\\Temp\\tmpk0to43h8\\https%3A/%2Fazureopendatastorage.azurefd.net/isdweatherdatacontainer/ISDWeather/year=2012/month=2/part-00004-tid-1176268934493077726-e9239a20-3ec9-41f2-904f-d82d127e4049-4902-2.c000.snappy.parquet\n",
      "[Info] read from C:\\Users\\Satya\\AppData\\Local\\Temp\\tmpk0to43h8\\https%3A/%2Fazureopendatastorage.azurefd.net/isdweatherdatacontainer/ISDWeather/year=2012/month=3/part-00004-tid-1176268934493077726-e9239a20-3ec9-41f2-904f-d82d127e4049-4902-3.c000.snappy.parquet\n",
      "[Info] read from C:\\Users\\Satya\\AppData\\Local\\Temp\\tmpk0to43h8\\https%3A/%2Fazureopendatastorage.azurefd.net/isdweatherdatacontainer/ISDWeather/year=2012/month=4/part-00004-tid-1176268934493077726-e9239a20-3ec9-41f2-904f-d82d127e4049-4902-4.c000.snappy.parquet\n",
      "[Info] read from C:\\Users\\Satya\\AppData\\Local\\Temp\\tmpk0to43h8\\https%3A/%2Fazureopendatastorage.azurefd.net/isdweatherdatacontainer/ISDWeather/year=2012/month=5/part-00004-tid-1176268934493077726-e9239a20-3ec9-41f2-904f-d82d127e4049-4902-5.c000.snappy.parquet\n",
      "[Info] read from C:\\Users\\Satya\\AppData\\Local\\Temp\\tmpk0to43h8\\https%3A/%2Fazureopendatastorage.azurefd.net/isdweatherdatacontainer/ISDWeather/year=2012/month=6/part-00004-tid-1176268934493077726-e9239a20-3ec9-41f2-904f-d82d127e4049-4902-6.c000.snappy.parquet\n",
      "[Info] read from C:\\Users\\Satya\\AppData\\Local\\Temp\\tmpk0to43h8\\https%3A/%2Fazureopendatastorage.azurefd.net/isdweatherdatacontainer/ISDWeather/year=2012/month=7/part-00004-tid-1176268934493077726-e9239a20-3ec9-41f2-904f-d82d127e4049-4902-7.c000.snappy.parquet\n",
      "[Info] read from C:\\Users\\Satya\\AppData\\Local\\Temp\\tmpk0to43h8\\https%3A/%2Fazureopendatastorage.azurefd.net/isdweatherdatacontainer/ISDWeather/year=2012/month=8/part-00004-tid-1176268934493077726-e9239a20-3ec9-41f2-904f-d82d127e4049-4902-8.c000.snappy.parquet\n",
      "[Info] read from C:\\Users\\Satya\\AppData\\Local\\Temp\\tmpk0to43h8\\https%3A/%2Fazureopendatastorage.azurefd.net/isdweatherdatacontainer/ISDWeather/year=2012/month=1/part-00005-tid-1176268934493077726-e9239a20-3ec9-41f2-904f-d82d127e4049-4898-1.c000.snappy.parquet\n",
      "[Info] read from C:\\Users\\Satya\\AppData\\Local\\Temp\\tmpk0to43h8\\https%3A/%2Fazureopendatastorage.azurefd.net/isdweatherdatacontainer/ISDWeather/year=2012/month=2/part-00005-tid-1176268934493077726-e9239a20-3ec9-41f2-904f-d82d127e4049-4898-2.c000.snappy.parquet\n",
      "[Info] read from C:\\Users\\Satya\\AppData\\Local\\Temp\\tmpk0to43h8\\https%3A/%2Fazureopendatastorage.azurefd.net/isdweatherdatacontainer/ISDWeather/year=2012/month=3/part-00005-tid-1176268934493077726-e9239a20-3ec9-41f2-904f-d82d127e4049-4898-3.c000.snappy.parquet\n",
      "[Info] read from C:\\Users\\Satya\\AppData\\Local\\Temp\\tmpk0to43h8\\https%3A/%2Fazureopendatastorage.azurefd.net/isdweatherdatacontainer/ISDWeather/year=2012/month=4/part-00005-tid-1176268934493077726-e9239a20-3ec9-41f2-904f-d82d127e4049-4898-4.c000.snappy.parquet\n",
      "[Info] read from C:\\Users\\Satya\\AppData\\Local\\Temp\\tmpk0to43h8\\https%3A/%2Fazureopendatastorage.azurefd.net/isdweatherdatacontainer/ISDWeather/year=2012/month=5/part-00005-tid-1176268934493077726-e9239a20-3ec9-41f2-904f-d82d127e4049-4898-5.c000.snappy.parquet\n",
      "[Info] read from C:\\Users\\Satya\\AppData\\Local\\Temp\\tmpk0to43h8\\https%3A/%2Fazureopendatastorage.azurefd.net/isdweatherdatacontainer/ISDWeather/year=2012/month=6/part-00005-tid-1176268934493077726-e9239a20-3ec9-41f2-904f-d82d127e4049-4898-6.c000.snappy.parquet\n",
      "[Info] read from C:\\Users\\Satya\\AppData\\Local\\Temp\\tmpk0to43h8\\https%3A/%2Fazureopendatastorage.azurefd.net/isdweatherdatacontainer/ISDWeather/year=2012/month=7/part-00005-tid-1176268934493077726-e9239a20-3ec9-41f2-904f-d82d127e4049-4898-7.c000.snappy.parquet\n",
      "[Info] read from C:\\Users\\Satya\\AppData\\Local\\Temp\\tmpk0to43h8\\https%3A/%2Fazureopendatastorage.azurefd.net/isdweatherdatacontainer/ISDWeather/year=2012/month=8/part-00005-tid-1176268934493077726-e9239a20-3ec9-41f2-904f-d82d127e4049-4898-8.c000.snappy.parquet\n",
      "[Info] read from C:\\Users\\Satya\\AppData\\Local\\Temp\\tmpk0to43h8\\https%3A/%2Fazureopendatastorage.azurefd.net/isdweatherdatacontainer/ISDWeather/year=2012/month=1/part-00006-tid-1176268934493077726-e9239a20-3ec9-41f2-904f-d82d127e4049-4905-1.c000.snappy.parquet\n",
      "[Info] read from C:\\Users\\Satya\\AppData\\Local\\Temp\\tmpk0to43h8\\https%3A/%2Fazureopendatastorage.azurefd.net/isdweatherdatacontainer/ISDWeather/year=2012/month=2/part-00006-tid-1176268934493077726-e9239a20-3ec9-41f2-904f-d82d127e4049-4905-2.c000.snappy.parquet\n",
      "[Info] read from C:\\Users\\Satya\\AppData\\Local\\Temp\\tmpk0to43h8\\https%3A/%2Fazureopendatastorage.azurefd.net/isdweatherdatacontainer/ISDWeather/year=2012/month=3/part-00006-tid-1176268934493077726-e9239a20-3ec9-41f2-904f-d82d127e4049-4905-3.c000.snappy.parquet\n",
      "[Info] read from C:\\Users\\Satya\\AppData\\Local\\Temp\\tmpk0to43h8\\https%3A/%2Fazureopendatastorage.azurefd.net/isdweatherdatacontainer/ISDWeather/year=2012/month=4/part-00006-tid-1176268934493077726-e9239a20-3ec9-41f2-904f-d82d127e4049-4905-4.c000.snappy.parquet\n",
      "[Info] read from C:\\Users\\Satya\\AppData\\Local\\Temp\\tmpk0to43h8\\https%3A/%2Fazureopendatastorage.azurefd.net/isdweatherdatacontainer/ISDWeather/year=2012/month=5/part-00006-tid-1176268934493077726-e9239a20-3ec9-41f2-904f-d82d127e4049-4905-5.c000.snappy.parquet\n",
      "[Info] read from C:\\Users\\Satya\\AppData\\Local\\Temp\\tmpk0to43h8\\https%3A/%2Fazureopendatastorage.azurefd.net/isdweatherdatacontainer/ISDWeather/year=2012/month=6/part-00006-tid-1176268934493077726-e9239a20-3ec9-41f2-904f-d82d127e4049-4905-6.c000.snappy.parquet\n",
      "[Info] read from C:\\Users\\Satya\\AppData\\Local\\Temp\\tmpk0to43h8\\https%3A/%2Fazureopendatastorage.azurefd.net/isdweatherdatacontainer/ISDWeather/year=2012/month=7/part-00006-tid-1176268934493077726-e9239a20-3ec9-41f2-904f-d82d127e4049-4905-7.c000.snappy.parquet\n",
      "[Info] read from C:\\Users\\Satya\\AppData\\Local\\Temp\\tmpk0to43h8\\https%3A/%2Fazureopendatastorage.azurefd.net/isdweatherdatacontainer/ISDWeather/year=2012/month=8/part-00006-tid-1176268934493077726-e9239a20-3ec9-41f2-904f-d82d127e4049-4905-8.c000.snappy.parquet\n",
      "[Info] read from C:\\Users\\Satya\\AppData\\Local\\Temp\\tmpk0to43h8\\https%3A/%2Fazureopendatastorage.azurefd.net/isdweatherdatacontainer/ISDWeather/year=2012/month=1/part-00007-tid-1176268934493077726-e9239a20-3ec9-41f2-904f-d82d127e4049-4901-1.c000.snappy.parquet\n",
      "[Info] read from C:\\Users\\Satya\\AppData\\Local\\Temp\\tmpk0to43h8\\https%3A/%2Fazureopendatastorage.azurefd.net/isdweatherdatacontainer/ISDWeather/year=2012/month=2/part-00007-tid-1176268934493077726-e9239a20-3ec9-41f2-904f-d82d127e4049-4901-2.c000.snappy.parquet\n",
      "[Info] read from C:\\Users\\Satya\\AppData\\Local\\Temp\\tmpk0to43h8\\https%3A/%2Fazureopendatastorage.azurefd.net/isdweatherdatacontainer/ISDWeather/year=2012/month=3/part-00007-tid-1176268934493077726-e9239a20-3ec9-41f2-904f-d82d127e4049-4901-3.c000.snappy.parquet\n",
      "[Info] read from C:\\Users\\Satya\\AppData\\Local\\Temp\\tmpk0to43h8\\https%3A/%2Fazureopendatastorage.azurefd.net/isdweatherdatacontainer/ISDWeather/year=2012/month=4/part-00007-tid-1176268934493077726-e9239a20-3ec9-41f2-904f-d82d127e4049-4901-4.c000.snappy.parquet\n",
      "[Info] read from C:\\Users\\Satya\\AppData\\Local\\Temp\\tmpk0to43h8\\https%3A/%2Fazureopendatastorage.azurefd.net/isdweatherdatacontainer/ISDWeather/year=2012/month=5/part-00007-tid-1176268934493077726-e9239a20-3ec9-41f2-904f-d82d127e4049-4901-5.c000.snappy.parquet\n",
      "[Info] read from C:\\Users\\Satya\\AppData\\Local\\Temp\\tmpk0to43h8\\https%3A/%2Fazureopendatastorage.azurefd.net/isdweatherdatacontainer/ISDWeather/year=2012/month=6/part-00007-tid-1176268934493077726-e9239a20-3ec9-41f2-904f-d82d127e4049-4901-6.c000.snappy.parquet\n",
      "[Info] read from C:\\Users\\Satya\\AppData\\Local\\Temp\\tmpk0to43h8\\https%3A/%2Fazureopendatastorage.azurefd.net/isdweatherdatacontainer/ISDWeather/year=2012/month=7/part-00007-tid-1176268934493077726-e9239a20-3ec9-41f2-904f-d82d127e4049-4901-7.c000.snappy.parquet\n",
      "[Info] read from C:\\Users\\Satya\\AppData\\Local\\Temp\\tmpk0to43h8\\https%3A/%2Fazureopendatastorage.azurefd.net/isdweatherdatacontainer/ISDWeather/year=2012/month=8/part-00007-tid-1176268934493077726-e9239a20-3ec9-41f2-904f-d82d127e4049-4901-8.c000.snappy.parquet\n"
     ]
    },
    {
     "ename": "MemoryError",
     "evalue": "Unable to allocate 3.45 GiB for an array with shape (6, 77214578) and data type float64",
     "output_type": "error",
     "traceback": [
      "\u001b[1;31m---------------------------------------------------------------------------\u001b[0m",
      "\u001b[1;31mMemoryError\u001b[0m                               Traceback (most recent call last)",
      "Cell \u001b[1;32mIn[31], line 15\u001b[0m\n\u001b[0;32m     13\u001b[0m \u001b[39mprint\u001b[39m(\u001b[39m\"\u001b[39m\u001b[39mRunning Weather Enricher\u001b[39m\u001b[39m\"\u001b[39m)\n\u001b[0;32m     14\u001b[0m weather_enricher \u001b[39m=\u001b[39m weather\u001b[39m.\u001b[39mget_enricher()\n\u001b[1;32m---> 15\u001b[0m new_energy, processed_weather \u001b[39m=\u001b[39m weather_enricher\u001b[39m.\u001b[39;49menrich_customer_data_no_agg(\n\u001b[0;32m     16\u001b[0m                                                 customer_data_object\u001b[39m=\u001b[39;49menergy,\n\u001b[0;32m     17\u001b[0m                                                 location_match_granularity\u001b[39m=\u001b[39;49m\u001b[39m5\u001b[39;49m, \u001b[39m# higher for high join success rate, lower for performance.\u001b[39;49;00m\n\u001b[0;32m     18\u001b[0m                                                 time_round_granularity\u001b[39m=\u001b[39;49m\u001b[39m'\u001b[39;49m\u001b[39mday\u001b[39;49m\u001b[39m'\u001b[39;49m)\n\u001b[0;32m     19\u001b[0m processed_weather\u001b[39m.\u001b[39mdata[\u001b[39m'\u001b[39m\u001b[39mprecipDepth\u001b[39m\u001b[39m'\u001b[39m] \u001b[39m=\u001b[39m processed_weather\u001b[39m.\u001b[39mdata[\u001b[39m'\u001b[39m\u001b[39mprecipDepth\u001b[39m\u001b[39m'\u001b[39m]\u001b[39m.\u001b[39mapply(\n\u001b[0;32m     20\u001b[0m         \u001b[39mlambda\u001b[39;00m x: np\u001b[39m.\u001b[39mnan \u001b[39mif\u001b[39;00m x \u001b[39m==\u001b[39m \u001b[39m9999\u001b[39m \u001b[39melse\u001b[39;00m x)\n\u001b[0;32m     21\u001b[0m processed_weather\u001b[39m.\u001b[39mdata[\u001b[39m'\u001b[39m\u001b[39mprecipTime\u001b[39m\u001b[39m'\u001b[39m] \u001b[39m=\u001b[39m processed_weather\u001b[39m.\u001b[39mdata[\u001b[39m'\u001b[39m\u001b[39mprecipTime\u001b[39m\u001b[39m'\u001b[39m]\u001b[39m.\u001b[39mapply(\n\u001b[0;32m     22\u001b[0m         \u001b[39mlambda\u001b[39;00m x: np\u001b[39m.\u001b[39mnan \u001b[39mif\u001b[39;00m x \u001b[39m==\u001b[39m \u001b[39m99\u001b[39m \u001b[39melse\u001b[39;00m x)\n",
      "File \u001b[1;32mc:\\ProgramData\\Miniconda3\\envs\\Azure\\lib\\site-packages\\azureml\\opendatasets\\enrichers\\common_weather_enricher.py:121\u001b[0m, in \u001b[0;36mCommonWeatherEnricher.enrich_customer_data_no_agg\u001b[1;34m(self, customer_data_object, location_match_granularity, time_round_granularity)\u001b[0m\n\u001b[0;32m    115\u001b[0m \u001b[39mself\u001b[39m\u001b[39m.\u001b[39mlog_properties[\u001b[39m'\u001b[39m\u001b[39mruntimeEnv\u001b[39m\u001b[39m'\u001b[39m] \u001b[39m=\u001b[39m \u001b[39mtype\u001b[39m(\n\u001b[0;32m    116\u001b[0m     customer_data_object\u001b[39m.\u001b[39menv)\u001b[39m.\u001b[39m\u001b[39m__name__\u001b[39m\n\u001b[0;32m    117\u001b[0m \u001b[39mself\u001b[39m\u001b[39m.\u001b[39mlog_properties[\u001b[39m'\u001b[39m\u001b[39mparameters\u001b[39m\u001b[39m'\u001b[39m] \u001b[39m=\u001b[39m \\\n\u001b[0;32m    118\u001b[0m     \u001b[39m'\u001b[39m\u001b[39mlocation_gran: \u001b[39m\u001b[39m%d\u001b[39;00m\u001b[39m, time_gran: \u001b[39m\u001b[39m%s\u001b[39;00m\u001b[39m'\u001b[39m \u001b[39m%\u001b[39m (\n\u001b[0;32m    119\u001b[0m         location_match_granularity, time_round_granularity)\n\u001b[0;32m    120\u001b[0m new_customer_data, processed_public_data, _, _ \u001b[39m=\u001b[39m \\\n\u001b[1;32m--> 121\u001b[0m     \u001b[39mself\u001b[39;49m\u001b[39m.\u001b[39;49m_enrich_customer_data(\n\u001b[0;32m    122\u001b[0m         customer_data_object, location_match_granularity, time_round_granularity, \u001b[39m'\u001b[39;49m\u001b[39mall\u001b[39;49m\u001b[39m'\u001b[39;49m)\n\u001b[0;32m    123\u001b[0m \u001b[39mself\u001b[39m\u001b[39m.\u001b[39mlog_properties[\u001b[39m'\u001b[39m\u001b[39mActivityType\u001b[39m\u001b[39m'\u001b[39m] \u001b[39m=\u001b[39m ActivityType\u001b[39m.\u001b[39mPUBLICAPI\n\u001b[0;32m    124\u001b[0m _LoggerFactory\u001b[39m.\u001b[39mlog_event(\n\u001b[0;32m    125\u001b[0m     \u001b[39m'\u001b[39m\u001b[39menrich_customer_data_no_agg\u001b[39m\u001b[39m'\u001b[39m, \u001b[39m*\u001b[39m\u001b[39m*\u001b[39m\u001b[39mself\u001b[39m\u001b[39m.\u001b[39mlog_properties)\n",
      "File \u001b[1;32mc:\\ProgramData\\Miniconda3\\envs\\Azure\\lib\\site-packages\\azureml\\opendatasets\\enrichers\\common_weather_enricher.py:169\u001b[0m, in \u001b[0;36mCommonWeatherEnricher._enrich_customer_data\u001b[1;34m(self, customer_data_object, location_match_granularity, time_round_granularity, agg_strategy)\u001b[0m\n\u001b[0;32m    166\u001b[0m \u001b[39mif\u001b[39;00m \u001b[39mself\u001b[39m\u001b[39m.\u001b[39maggregator \u001b[39mis\u001b[39;00m \u001b[39mNone\u001b[39;00m:\n\u001b[0;32m    167\u001b[0m     \u001b[39mraise\u001b[39;00m \u001b[39mValueError\u001b[39;00m(\u001b[39m'\u001b[39m\u001b[39mUnsupported aggregator\u001b[39m\u001b[39m'\u001b[39m \u001b[39m+\u001b[39m agg_strategy)\n\u001b[1;32m--> 169\u001b[0m \u001b[39mreturn\u001b[39;00m \u001b[39mself\u001b[39;49m\u001b[39m.\u001b[39;49menrich(\n\u001b[0;32m    170\u001b[0m     customer_data\u001b[39m=\u001b[39;49mcustomer_data_object,\n\u001b[0;32m    171\u001b[0m     public_data\u001b[39m=\u001b[39;49m\u001b[39mself\u001b[39;49m\u001b[39m.\u001b[39;49mpublic_data,\n\u001b[0;32m    172\u001b[0m     location_selector\u001b[39m=\u001b[39;49m\u001b[39mself\u001b[39;49m\u001b[39m.\u001b[39;49mlocation_selector,\n\u001b[0;32m    173\u001b[0m     time_selector\u001b[39m=\u001b[39;49m\u001b[39mself\u001b[39;49m\u001b[39m.\u001b[39;49mtime_selector,\n\u001b[0;32m    174\u001b[0m     aggregator\u001b[39m=\u001b[39;49m\u001b[39mself\u001b[39;49m\u001b[39m.\u001b[39;49maggregator)\n",
      "File \u001b[1;32mc:\\ProgramData\\Miniconda3\\envs\\Azure\\lib\\site-packages\\azureml\\opendatasets\\enrichers\\enricher.py:137\u001b[0m, in \u001b[0;36mEnricher.enrich\u001b[1;34m(self, customer_data, public_data, location_selector, time_selector, aggregator)\u001b[0m\n\u001b[0;32m    135\u001b[0m     \u001b[39mself\u001b[39m\u001b[39m.\u001b[39mlog_properties[\u001b[39m'\u001b[39m\u001b[39mActivityType\u001b[39m\u001b[39m'\u001b[39m] \u001b[39m=\u001b[39m ActivityType\u001b[39m.\u001b[39mINTERNALCALL\n\u001b[0;32m    136\u001b[0m     _LoggerFactory\u001b[39m.\u001b[39mlog_event(\u001b[39m'\u001b[39m\u001b[39menrich\u001b[39m\u001b[39m'\u001b[39m, \u001b[39m*\u001b[39m\u001b[39m*\u001b[39m\u001b[39mself\u001b[39m\u001b[39m.\u001b[39mlog_properties)\n\u001b[1;32m--> 137\u001b[0m     \u001b[39mreturn\u001b[39;00m \u001b[39mself\u001b[39;49m\u001b[39m.\u001b[39;49m_enrich(\n\u001b[0;32m    138\u001b[0m         customer_data,\n\u001b[0;32m    139\u001b[0m         public_data,\n\u001b[0;32m    140\u001b[0m         location_selector,\n\u001b[0;32m    141\u001b[0m         time_selector,\n\u001b[0;32m    142\u001b[0m         aggregator,\n\u001b[0;32m    143\u001b[0m         \u001b[39mNone\u001b[39;49;00m)\n\u001b[0;32m    144\u001b[0m \u001b[39melse\u001b[39;00m:\n\u001b[0;32m    145\u001b[0m     \u001b[39mreturn\u001b[39;00m \u001b[39mself\u001b[39m\u001b[39m.\u001b[39m_enrich(\n\u001b[0;32m    146\u001b[0m         customer_data,\n\u001b[0;32m    147\u001b[0m         public_data,\n\u001b[1;32m   (...)\u001b[0m\n\u001b[0;32m    150\u001b[0m         aggregator,\n\u001b[0;32m    151\u001b[0m         \u001b[39mNone\u001b[39;00m)\n",
      "File \u001b[1;32mc:\\ProgramData\\Miniconda3\\envs\\Azure\\lib\\site-packages\\azureml\\opendatasets\\enrichers\\enricher.py:164\u001b[0m, in \u001b[0;36mEnricher._enrich\u001b[1;34m(self, customer_data, public_data, location_selector, time_selector, aggregator, activity_logger)\u001b[0m\n\u001b[0;32m    161\u001b[0m \u001b[39m\"\"\"Enrich method, internal to override.\"\"\"\u001b[39;00m\n\u001b[0;32m    162\u001b[0m max_date \u001b[39m=\u001b[39m get_max_date_by_granularity(\n\u001b[0;32m    163\u001b[0m     customer_data\u001b[39m.\u001b[39mmax_date, time_selector\u001b[39m.\u001b[39mgranularity)\n\u001b[1;32m--> 164\u001b[0m public_data\u001b[39m.\u001b[39mdata \u001b[39m=\u001b[39m public_data\u001b[39m.\u001b[39;49mfilter(\n\u001b[0;32m    165\u001b[0m     public_data\u001b[39m.\u001b[39;49menv, customer_data\u001b[39m.\u001b[39;49mmin_date, max_date)\n\u001b[0;32m    166\u001b[0m customer_data\u001b[39m.\u001b[39madd_row_id(customer_data\u001b[39m.\u001b[39menv)\n\u001b[0;32m    167\u001b[0m \u001b[39mreturn\u001b[39;00m \u001b[39mself\u001b[39m\u001b[39m.\u001b[39m_process(customer_data, public_data, location_selector, time_selector, aggregator)\n",
      "File \u001b[1;32mc:\\ProgramData\\Miniconda3\\envs\\Azure\\lib\\site-packages\\azureml\\opendatasets\\_noaa_isd_weather.py:125\u001b[0m, in \u001b[0;36mNoaaIsdWeather.filter\u001b[1;34m(self, env, min_date, max_date)\u001b[0m\n\u001b[0;32m    123\u001b[0m     \u001b[39mreturn\u001b[39;00m ds\n\u001b[0;32m    124\u001b[0m \u001b[39melse\u001b[39;00m:\n\u001b[1;32m--> 125\u001b[0m     ds \u001b[39m=\u001b[39m ds\u001b[39m.\u001b[39;49mdropna(how\u001b[39m=\u001b[39;49m\u001b[39m'\u001b[39;49m\u001b[39mall\u001b[39;49m\u001b[39m'\u001b[39;49m, axis\u001b[39m=\u001b[39;49m\u001b[39m0\u001b[39;49m, subset\u001b[39m=\u001b[39;49m\u001b[39mself\u001b[39;49m\u001b[39m.\u001b[39;49mcols)\u001b[39m.\u001b[39mdropna(\n\u001b[0;32m    126\u001b[0m         how\u001b[39m=\u001b[39m\u001b[39m'\u001b[39m\u001b[39many\u001b[39m\u001b[39m'\u001b[39m, axis\u001b[39m=\u001b[39m\u001b[39m0\u001b[39m, subset\u001b[39m=\u001b[39m[\u001b[39mself\u001b[39m\u001b[39m.\u001b[39mlongitude_column_name, \u001b[39mself\u001b[39m\u001b[39m.\u001b[39mlatitude_column_name])\n\u001b[0;32m    127\u001b[0m     \u001b[39m# create unique id for weather stations, hardcoded due to id issue in weather dataset\u001b[39;00m\n\u001b[0;32m    128\u001b[0m     ds[\u001b[39mself\u001b[39m\u001b[39m.\u001b[39mid_column_name] \u001b[39m=\u001b[39m ds[\u001b[39mself\u001b[39m\u001b[39m.\u001b[39mlatitude_column_name]\u001b[39m.\u001b[39mmap(\u001b[39mstr\u001b[39m) \u001b[39m+\u001b[39m \\\n\u001b[0;32m    129\u001b[0m         \u001b[39m'\u001b[39m\u001b[39m-\u001b[39m\u001b[39m'\u001b[39m \u001b[39m+\u001b[39m ds[\u001b[39mself\u001b[39m\u001b[39m.\u001b[39mlongitude_column_name]\u001b[39m.\u001b[39mmap(\u001b[39mstr\u001b[39m)\n",
      "File \u001b[1;32mc:\\ProgramData\\Miniconda3\\envs\\Azure\\lib\\site-packages\\pandas\\util\\_decorators.py:331\u001b[0m, in \u001b[0;36mdeprecate_nonkeyword_arguments.<locals>.decorate.<locals>.wrapper\u001b[1;34m(*args, **kwargs)\u001b[0m\n\u001b[0;32m    325\u001b[0m \u001b[39mif\u001b[39;00m \u001b[39mlen\u001b[39m(args) \u001b[39m>\u001b[39m num_allow_args:\n\u001b[0;32m    326\u001b[0m     warnings\u001b[39m.\u001b[39mwarn(\n\u001b[0;32m    327\u001b[0m         msg\u001b[39m.\u001b[39mformat(arguments\u001b[39m=\u001b[39m_format_argument_list(allow_args)),\n\u001b[0;32m    328\u001b[0m         \u001b[39mFutureWarning\u001b[39;00m,\n\u001b[0;32m    329\u001b[0m         stacklevel\u001b[39m=\u001b[39mfind_stack_level(),\n\u001b[0;32m    330\u001b[0m     )\n\u001b[1;32m--> 331\u001b[0m \u001b[39mreturn\u001b[39;00m func(\u001b[39m*\u001b[39;49margs, \u001b[39m*\u001b[39;49m\u001b[39m*\u001b[39;49mkwargs)\n",
      "File \u001b[1;32mc:\\ProgramData\\Miniconda3\\envs\\Azure\\lib\\site-packages\\pandas\\core\\frame.py:6574\u001b[0m, in \u001b[0;36mDataFrame.dropna\u001b[1;34m(self, axis, how, thresh, subset, inplace)\u001b[0m\n\u001b[0;32m   6571\u001b[0m     \u001b[39mraise\u001b[39;00m \u001b[39mValueError\u001b[39;00m(\u001b[39mf\u001b[39m\u001b[39m\"\u001b[39m\u001b[39minvalid how option: \u001b[39m\u001b[39m{\u001b[39;00mhow\u001b[39m}\u001b[39;00m\u001b[39m\"\u001b[39m)\n\u001b[0;32m   6573\u001b[0m \u001b[39mif\u001b[39;00m np\u001b[39m.\u001b[39mall(mask):\n\u001b[1;32m-> 6574\u001b[0m     result \u001b[39m=\u001b[39m \u001b[39mself\u001b[39;49m\u001b[39m.\u001b[39;49mcopy()\n\u001b[0;32m   6575\u001b[0m \u001b[39melse\u001b[39;00m:\n\u001b[0;32m   6576\u001b[0m     result \u001b[39m=\u001b[39m \u001b[39mself\u001b[39m\u001b[39m.\u001b[39mloc(axis\u001b[39m=\u001b[39maxis)[mask]\n",
      "File \u001b[1;32mc:\\ProgramData\\Miniconda3\\envs\\Azure\\lib\\site-packages\\pandas\\core\\generic.py:6368\u001b[0m, in \u001b[0;36mNDFrame.copy\u001b[1;34m(self, deep)\u001b[0m\n\u001b[0;32m   6258\u001b[0m \u001b[39m@final\u001b[39m\n\u001b[0;32m   6259\u001b[0m \u001b[39mdef\u001b[39;00m \u001b[39mcopy\u001b[39m(\u001b[39mself\u001b[39m: NDFrameT, deep: bool_t \u001b[39m|\u001b[39m \u001b[39mNone\u001b[39;00m \u001b[39m=\u001b[39m \u001b[39mTrue\u001b[39;00m) \u001b[39m-\u001b[39m\u001b[39m>\u001b[39m NDFrameT:\n\u001b[0;32m   6260\u001b[0m     \u001b[39m\"\"\"\u001b[39;00m\n\u001b[0;32m   6261\u001b[0m \u001b[39m    Make a copy of this object's indices and data.\u001b[39;00m\n\u001b[0;32m   6262\u001b[0m \n\u001b[1;32m   (...)\u001b[0m\n\u001b[0;32m   6366\u001b[0m \u001b[39m    dtype: object\u001b[39;00m\n\u001b[0;32m   6367\u001b[0m \u001b[39m    \"\"\"\u001b[39;00m\n\u001b[1;32m-> 6368\u001b[0m     data \u001b[39m=\u001b[39m \u001b[39mself\u001b[39;49m\u001b[39m.\u001b[39;49m_mgr\u001b[39m.\u001b[39;49mcopy(deep\u001b[39m=\u001b[39;49mdeep)\n\u001b[0;32m   6369\u001b[0m     \u001b[39mself\u001b[39m\u001b[39m.\u001b[39m_clear_item_cache()\n\u001b[0;32m   6370\u001b[0m     \u001b[39mreturn\u001b[39;00m \u001b[39mself\u001b[39m\u001b[39m.\u001b[39m_constructor(data)\u001b[39m.\u001b[39m__finalize__(\u001b[39mself\u001b[39m, method\u001b[39m=\u001b[39m\u001b[39m\"\u001b[39m\u001b[39mcopy\u001b[39m\u001b[39m\"\u001b[39m)\n",
      "File \u001b[1;32mc:\\ProgramData\\Miniconda3\\envs\\Azure\\lib\\site-packages\\pandas\\core\\internals\\managers.py:651\u001b[0m, in \u001b[0;36mBaseBlockManager.copy\u001b[1;34m(self, deep)\u001b[0m\n\u001b[0;32m    648\u001b[0m \u001b[39melse\u001b[39;00m:\n\u001b[0;32m    649\u001b[0m     new_axes \u001b[39m=\u001b[39m \u001b[39mlist\u001b[39m(\u001b[39mself\u001b[39m\u001b[39m.\u001b[39maxes)\n\u001b[1;32m--> 651\u001b[0m res \u001b[39m=\u001b[39m \u001b[39mself\u001b[39;49m\u001b[39m.\u001b[39;49mapply(\u001b[39m\"\u001b[39;49m\u001b[39mcopy\u001b[39;49m\u001b[39m\"\u001b[39;49m, deep\u001b[39m=\u001b[39;49mdeep)\n\u001b[0;32m    652\u001b[0m new_refs: \u001b[39mlist\u001b[39m[weakref\u001b[39m.\u001b[39mref \u001b[39m|\u001b[39m \u001b[39mNone\u001b[39;00m] \u001b[39m|\u001b[39m \u001b[39mNone\u001b[39;00m\n\u001b[0;32m    653\u001b[0m \u001b[39mif\u001b[39;00m deep:\n",
      "File \u001b[1;32mc:\\ProgramData\\Miniconda3\\envs\\Azure\\lib\\site-packages\\pandas\\core\\internals\\managers.py:352\u001b[0m, in \u001b[0;36mBaseBlockManager.apply\u001b[1;34m(self, f, align_keys, ignore_failures, **kwargs)\u001b[0m\n\u001b[0;32m    350\u001b[0m         applied \u001b[39m=\u001b[39m b\u001b[39m.\u001b[39mapply(f, \u001b[39m*\u001b[39m\u001b[39m*\u001b[39mkwargs)\n\u001b[0;32m    351\u001b[0m     \u001b[39melse\u001b[39;00m:\n\u001b[1;32m--> 352\u001b[0m         applied \u001b[39m=\u001b[39m \u001b[39mgetattr\u001b[39;49m(b, f)(\u001b[39m*\u001b[39;49m\u001b[39m*\u001b[39;49mkwargs)\n\u001b[0;32m    353\u001b[0m \u001b[39mexcept\u001b[39;00m (\u001b[39mTypeError\u001b[39;00m, \u001b[39mNotImplementedError\u001b[39;00m):\n\u001b[0;32m    354\u001b[0m     \u001b[39mif\u001b[39;00m \u001b[39mnot\u001b[39;00m ignore_failures:\n",
      "File \u001b[1;32mc:\\ProgramData\\Miniconda3\\envs\\Azure\\lib\\site-packages\\pandas\\core\\internals\\blocks.py:549\u001b[0m, in \u001b[0;36mBlock.copy\u001b[1;34m(self, deep)\u001b[0m\n\u001b[0;32m    547\u001b[0m values \u001b[39m=\u001b[39m \u001b[39mself\u001b[39m\u001b[39m.\u001b[39mvalues\n\u001b[0;32m    548\u001b[0m \u001b[39mif\u001b[39;00m deep:\n\u001b[1;32m--> 549\u001b[0m     values \u001b[39m=\u001b[39m values\u001b[39m.\u001b[39;49mcopy()\n\u001b[0;32m    550\u001b[0m \u001b[39mreturn\u001b[39;00m \u001b[39mtype\u001b[39m(\u001b[39mself\u001b[39m)(values, placement\u001b[39m=\u001b[39m\u001b[39mself\u001b[39m\u001b[39m.\u001b[39m_mgr_locs, ndim\u001b[39m=\u001b[39m\u001b[39mself\u001b[39m\u001b[39m.\u001b[39mndim)\n",
      "\u001b[1;31mMemoryError\u001b[0m: Unable to allocate 3.45 GiB for an array with shape (6, 77214578) and data type float64"
     ]
    }
   ],
   "source": [
    "df1 = df[(df['new_datetime'] >= i_date) & (df['new_datetime'] <= j_date)].copy()\n",
    "df1['idx'] = list(range(len(df1.index)))\n",
    "df1 = df1.set_index('idx')\n",
    "\n",
    "df1\n",
    "energy = LocationTimeCustomerData(df1,\n",
    "                                LatLongColumn('lat', 'long'),\n",
    "                                'new_datetime')\n",
    "\n",
    "weather = NoaaIsdWeather(cols=[\"temperature\", \"precipTime\", \"precipDepth\", \"snowDepth\"],\n",
    "                        start_date=i_date,\n",
    "                        end_date=j_date)\n",
    "print(\"Running Weather Enricher\")\n",
    "weather_enricher = weather.get_enricher()\n",
    "new_energy, processed_weather = weather_enricher.enrich_customer_data_no_agg(\n",
    "                                                customer_data_object=energy,\n",
    "                                                location_match_granularity=5, # higher for high join success rate, lower for performance.\n",
    "                                                time_round_granularity='day')\n",
    "processed_weather.data['precipDepth'] = processed_weather.data['precipDepth'].apply(\n",
    "        lambda x: np.nan if x == 9999 else x)\n",
    "processed_weather.data['precipTime'] = processed_weather.data['precipTime'].apply(\n",
    "        lambda x: np.nan if x == 99 else x)\n",
    "processed_weather.data['precipDepth/precipTime'] = \\\n",
    "        processed_weather.data[['precipDepth', 'precipTime']].apply(\n",
    "        lambda x: np.nan if (\n",
    "                pd.isna(x[0]) or pd.isna(x[1]) or x[1] == 0.0) else (x[0] / x[1]), axis=1)\n",
    "aggregations = {\n",
    "        \"temperature\": \"mean\",\n",
    "        \"snowDepth\": \"mean\",\n",
    "        \"precipDepth/precipTime\": \"mean\",\n",
    "        \"precipDepth\": \"max\",\n",
    "        \"precipTime\": \"max\"}\n",
    "public_rankgroup = processed_weather.id\n",
    "public_join_time = [\n",
    "        s for s in list(processed_weather.data.columns)\n",
    "        if s.startswith('ds_join_time')][0]\n",
    "customer_rankgroup = weather_enricher.location_selector.customer_rankgroup\n",
    "customer_join_time = [\n",
    "        s for s in list(new_energy.data.columns)\n",
    "        if s.startswith('customer_join_time')][0]\n",
    "weather_df_grouped = processed_weather.data.groupby(\n",
    "        by=[public_rankgroup, public_join_time]).agg(aggregations)\n",
    "joined_dataset = new_energy.data.merge(\n",
    "        weather_df_grouped,\n",
    "        left_on=[customer_rankgroup, customer_join_time],\n",
    "        right_on=[public_rankgroup, public_join_time],\n",
    "        how='left')\n",
    "final_df = joined_dataset[raw_columns + [\n",
    "        \"temperature\", \"precipTime\", \"precipDepth\", \"snowDepth\", \"precipDepth/precipTime\"]]\n"
   ]
  },
  {
   "cell_type": "code",
   "execution_count": 71,
   "metadata": {},
   "outputs": [],
   "source": [
    "report_joined[i_date] = final_df.describe()"
   ]
  },
  {
   "cell_type": "code",
   "execution_count": 72,
   "metadata": {},
   "outputs": [
    {
     "data": {
      "text/plain": [
       "'temp/nyc_energy_enriched_2012-07-01 00-00-00.csv'"
      ]
     },
     "execution_count": 72,
     "metadata": {},
     "output_type": "execute_result"
    }
   ],
   "source": [
    "fdate = str(i_date).replace(\":\",'-')\n",
    "fn = \"temp/nyc_energy_enriched_\"+ fdate +\".csv\"\n",
    "fn"
   ]
  },
  {
   "cell_type": "code",
   "execution_count": 73,
   "metadata": {},
   "outputs": [],
   "source": [
    "final_df.to_csv(fn)"
   ]
  },
  {
   "cell_type": "code",
   "execution_count": 74,
   "metadata": {},
   "outputs": [],
   "source": [
    "all = pd.concat([all, final_df])"
   ]
  },
  {
   "cell_type": "code",
   "execution_count": 75,
   "metadata": {},
   "outputs": [
    {
     "name": "stderr",
     "output_type": "stream",
     "text": [
      "c:\\ProgramData\\Miniconda3\\envs\\Azure\\lib\\site-packages\\pandas\\core\\internals\\blocks.py:2323: RuntimeWarning: invalid value encountered in cast\n",
      "  values = values.astype(str)\n"
     ]
    }
   ],
   "source": [
    "all.to_csv('data/nyc_energy_enriched.csv')"
   ]
  },
  {
   "cell_type": "code",
   "execution_count": 27,
   "metadata": {},
   "outputs": [],
   "source": [
    "i_date += relativedelta(months=1)"
   ]
  },
  {
   "cell_type": "code",
   "execution_count": null,
   "metadata": {},
   "outputs": [],
   "source": [
    "# i_date += relativedelta(months=-1)"
   ]
  },
  {
   "cell_type": "code",
   "execution_count": 1,
   "metadata": {},
   "outputs": [],
   "source": [
    "# if os.path.exists('data/nyc_energy_enriched.csv'):\n",
    "#     raise RuntimeError('nyc_energy_enriched.csv exists already.')\n",
    "# else:\n",
    "#     print('[%s] Start enriching...' % datetime.now())\n",
    "#     all = pd.DataFrame([])\n",
    "#     report_joined = {}\n",
    "#     i_date = start_date\n",
    "#     for m in range(months):\n",
    "#         j_date = i_date + relativedelta(months=1) - timedelta(milliseconds=1)\n",
    "\n",
    "#         # This is important to set monotonically increasing index for successful enrichemnt.\n",
    "#         df1 = df[(df['new_datetime'] >= i_date) & (df['new_datetime'] <= j_date)].copy()\n",
    "#         df1['idx'] = list(range(len(df1.index)))\n",
    "#         df1 = df1.set_index('idx')\n",
    "\n",
    "#         energy = LocationTimeCustomerData(\n",
    "#             df1,\n",
    "#             LatLongColumn('lat', 'long'),\n",
    "#             'new_datetime')\n",
    "\n",
    "#         weather = NoaaIsdWeather(\n",
    "#             cols=[\"temperature\", \"precipTime\", \"precipDepth\", \"snowDepth\"],\n",
    "#             start_date=i_date,\n",
    "#             end_date=j_date)\n",
    "\n",
    "#         weather_enricher = weather.get_enricher()\n",
    "#         new_energy, processed_weather = weather_enricher.enrich_customer_data_no_agg(\n",
    "#             customer_data_object=energy,\n",
    "#             location_match_granularity=5, # higher for high join success rate, lower for performance.\n",
    "#             time_round_granularity='day')\n",
    "        \n",
    "#         # ---=== Begin of cusomtized aggregation ===---\n",
    "        \n",
    "#         processed_weather.data['precipDepth'] = processed_weather.data['precipDepth'].apply(\n",
    "#             lambda x: np.nan if x == 9999 else x)\n",
    "#         processed_weather.data['precipTime'] = processed_weather.data['precipTime'].apply(\n",
    "#             lambda x: np.nan if x == 99 else x)\n",
    "\n",
    "#         processed_weather.data['precipDepth/precipTime'] = \\\n",
    "#         processed_weather.data[['precipDepth', 'precipTime']].apply(\n",
    "#             lambda x: np.nan if (\n",
    "#                 pd.isna(x[0]) or pd.isna(x[1]) or x[1] == 0.0) else (x[0] / x[1]), axis=1)\n",
    "        \n",
    "#         aggregations = {\n",
    "#             \"temperature\": \"mean\",\n",
    "#             \"snowDepth\": \"mean\",\n",
    "#             \"precipDepth/precipTime\": \"mean\",\n",
    "#             \"precipDepth\": \"max\",\n",
    "#             \"precipTime\": \"max\"}\n",
    "        \n",
    "#         public_rankgroup = processed_weather.id\n",
    "\n",
    "#         public_join_time = [\n",
    "#             s for s in list(processed_weather.data.columns)\n",
    "#             if s.startswith('ds_join_time')][0]\n",
    "\n",
    "#         customer_rankgroup = weather_enricher.location_selector.customer_rankgroup\n",
    "\n",
    "#         customer_join_time = [\n",
    "#             s for s in list(new_energy.data.columns)\n",
    "#             if s.startswith('customer_join_time')][0]\n",
    "\n",
    "#         weather_df_grouped = processed_weather.data.groupby(\n",
    "#             by=[public_rankgroup, public_join_time]).agg(aggregations)\n",
    "        \n",
    "#         joined_dataset = new_energy.data.merge(\n",
    "#             weather_df_grouped,\n",
    "#             left_on=[customer_rankgroup, customer_join_time],\n",
    "#             right_on=[public_rankgroup, public_join_time],\n",
    "#             how='left')\n",
    "\n",
    "#         final_df = joined_dataset[raw_columns + [\n",
    "#             \"temperature\", \"precipTime\", \"precipDepth\", \"snowDepth\", \"precipDepth/precipTime\"]]\n",
    "\n",
    "#         report_joined[i_date] = final_df.describe()\n",
    "        \n",
    "#         # ---=== End of customized aggregation ===---\n",
    "        \n",
    "#         fdate = str(i_date).replace(\":\",'-')\n",
    "#         fn = \"temp/nyc_energy_enriched_\"+ fdate +\".csv\"\n",
    "#         final_df.to_csv(fn)\n",
    "\n",
    "#         all = pd.concat([all, final_df])\n",
    "#         all.to_csv('data/nyc_energy_enriched.csv')\n",
    "\n",
    "#         i_date += relativedelta(months=1)\n",
    "\n",
    "#     print('[%s] End enriching...' % datetime.now())"
   ]
  },
  {
   "cell_type": "code",
   "execution_count": 1,
   "metadata": {},
   "outputs": [],
   "source": [
    "import pandas as pd"
   ]
  },
  {
   "cell_type": "code",
   "execution_count": 2,
   "metadata": {},
   "outputs": [],
   "source": [
    "import glob"
   ]
  },
  {
   "cell_type": "code",
   "execution_count": 3,
   "metadata": {},
   "outputs": [],
   "source": [
    "import os"
   ]
  },
  {
   "cell_type": "code",
   "execution_count": 4,
   "metadata": {},
   "outputs": [],
   "source": [
    "temp_csv_files = glob.glob(os.path.join('temp', '*.csv'))"
   ]
  },
  {
   "cell_type": "code",
   "execution_count": 7,
   "metadata": {},
   "outputs": [],
   "source": [
    "df = pd.concat([pd.read_csv(file) for file in temp_csv_files])"
   ]
  },
  {
   "cell_type": "code",
   "execution_count": 14,
   "metadata": {},
   "outputs": [
    {
     "data": {
      "text/plain": [
       "0"
      ]
     },
     "execution_count": 14,
     "metadata": {},
     "output_type": "execute_result"
    }
   ],
   "source": [
    "df.duplicated(subset=['timeStamp']).sum()"
   ]
  },
  {
   "cell_type": "code",
   "execution_count": 16,
   "metadata": {},
   "outputs": [],
   "source": [
    "df.drop('Unnamed: 0', axis=1).to_csv(os.path.join('data', 'nyc_energy_data.csv'))"
   ]
  }
 ],
 "metadata": {
  "kernelspec": {
   "display_name": "Azure",
   "language": "python",
   "name": "python3"
  },
  "language_info": {
   "codemirror_mode": {
    "name": "ipython",
    "version": 3
   },
   "file_extension": ".py",
   "mimetype": "text/x-python",
   "name": "python",
   "nbconvert_exporter": "python",
   "pygments_lexer": "ipython3",
   "version": "3.8.15"
  },
  "orig_nbformat": 4,
  "vscode": {
   "interpreter": {
    "hash": "472f74f8e41ea1abd30e6e408d7fab9d20a5b912938d959fbf41272fd6c412f9"
   }
  }
 },
 "nbformat": 4,
 "nbformat_minor": 2
}
